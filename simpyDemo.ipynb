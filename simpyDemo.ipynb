{
  "cells": [
    {
      "cell_type": "markdown",
      "metadata": {
        "id": "view-in-github",
        "colab_type": "text"
      },
      "source": [
        "<a href=\"https://colab.research.google.com/github/SridharSeshadri56/Decision_Models/blob/main/simpyDemo.ipynb\" target=\"_parent\"><img src=\"https://colab.research.google.com/assets/colab-badge.svg\" alt=\"Open In Colab\"/></a>"
      ]
    },
    {
      "cell_type": "markdown",
      "source": [
        "These are examples from the simpy documentation with minor edits to help understand the modeling ideas."
      ],
      "metadata": {
        "id": "664NpcNmPClz"
      },
      "id": "664NpcNmPClz"
    },
    {
      "cell_type": "code",
      "execution_count": 1,
      "id": "4d767907",
      "metadata": {
        "colab": {
          "base_uri": "https://localhost:8080/"
        },
        "id": "4d767907",
        "outputId": "378131f7-92b4-410a-8dbd-80b16342a5d5"
      },
      "outputs": [
        {
          "output_type": "stream",
          "name": "stdout",
          "text": [
            "Collecting simpy\n",
            "  Downloading simpy-4.0.1-py2.py3-none-any.whl (29 kB)\n",
            "Installing collected packages: simpy\n",
            "Successfully installed simpy-4.0.1\n"
          ]
        }
      ],
      "source": [
        "pip install simpy"
      ]
    },
    {
      "cell_type": "code",
      "execution_count": 2,
      "id": "dbc5e28a",
      "metadata": {
        "colab": {
          "base_uri": "https://localhost:8080/"
        },
        "id": "dbc5e28a",
        "outputId": "95ef2057-10b4-4ab6-aa48-6b9350e42865"
      },
      "outputs": [
        {
          "output_type": "stream",
          "name": "stdout",
          "text": [
            "Requirement already satisfied: pytest in /usr/local/lib/python3.7/dist-packages (3.6.4)\n",
            "Requirement already satisfied: pluggy<0.8,>=0.5 in /usr/local/lib/python3.7/dist-packages (from pytest) (0.7.1)\n",
            "Requirement already satisfied: atomicwrites>=1.0 in /usr/local/lib/python3.7/dist-packages (from pytest) (1.4.0)\n",
            "Requirement already satisfied: more-itertools>=4.0.0 in /usr/local/lib/python3.7/dist-packages (from pytest) (8.12.0)\n",
            "Requirement already satisfied: attrs>=17.4.0 in /usr/local/lib/python3.7/dist-packages (from pytest) (21.4.0)\n",
            "Requirement already satisfied: setuptools in /usr/local/lib/python3.7/dist-packages (from pytest) (57.4.0)\n",
            "Requirement already satisfied: six>=1.10.0 in /usr/local/lib/python3.7/dist-packages (from pytest) (1.15.0)\n",
            "Requirement already satisfied: py>=1.5.0 in /usr/local/lib/python3.7/dist-packages (from pytest) (1.11.0)\n"
          ]
        }
      ],
      "source": [
        "pip install pytest"
      ]
    },
    {
      "cell_type": "code",
      "execution_count": 3,
      "id": "a80c486b",
      "metadata": {
        "id": "a80c486b"
      },
      "outputs": [],
      "source": [
        "import simpy\n",
        "from simpy.util import start_delayed"
      ]
    },
    {
      "cell_type": "code",
      "execution_count": 4,
      "id": "930e2e7c",
      "metadata": {
        "id": "930e2e7c"
      },
      "outputs": [],
      "source": [
        "def car(env):\n",
        " while True:\n",
        "      print('Start parking at %d' % env.now)\n",
        "      parking_duration = 5\n",
        "      yield env.timeout(parking_duration)\n",
        "\n",
        "      print('Start driving at %d' % env.now)\n",
        "      trip_duration = 2\n",
        "      yield env.timeout(trip_duration)"
      ]
    },
    {
      "cell_type": "code",
      "execution_count": 5,
      "id": "f49d1f77",
      "metadata": {
        "id": "f49d1f77"
      },
      "outputs": [],
      "source": [
        "env = simpy.Environment()"
      ]
    },
    {
      "cell_type": "code",
      "execution_count": 6,
      "id": "975e4c74",
      "metadata": {
        "colab": {
          "base_uri": "https://localhost:8080/"
        },
        "id": "975e4c74",
        "outputId": "90af6a1a-e40e-47f2-fe88-a6e20b2a0ea6"
      },
      "outputs": [
        {
          "output_type": "stream",
          "name": "stdout",
          "text": [
            "Start parking at 4\n",
            "Start driving at 9\n",
            "Start parking at 11\n"
          ]
        }
      ],
      "source": [
        "start_delayed(env, car(env), 4)\n",
        "env.run(until=15)"
      ]
    },
    {
      "cell_type": "code",
      "execution_count": 7,
      "id": "dc6ea930",
      "metadata": {
        "colab": {
          "base_uri": "https://localhost:8080/"
        },
        "id": "dc6ea930",
        "outputId": "ac3c28d7-4a52-4c99-e954-e25623970421"
      },
      "outputs": [
        {
          "output_type": "stream",
          "name": "stdout",
          "text": [
            "Start driving at 16\n",
            "Start parking at 18\n"
          ]
        }
      ],
      "source": [
        "env.run(until=20)"
      ]
    },
    {
      "cell_type": "code",
      "execution_count": 8,
      "id": "7c0cc746",
      "metadata": {
        "id": "7c0cc746"
      },
      "outputs": [],
      "source": [
        "class Car(object):\n",
        "     def __init__(self, env, delay):\n",
        "         self.env = env\n",
        "         # Start the run process everytime an instance is created.\n",
        "         self.action = start_delayed(env,self.run(), delay)\n",
        "         print(delay)\n",
        "     def run(self):\n",
        "         while True:\n",
        "             print('Start parking and charging at %d' % self.env.now)\n",
        "             charge_duration = 5\n",
        "             # We yield the process that process() returns\n",
        "             # to wait for it to finish\n",
        "             yield self.env.process(self.charge(charge_duration))\n",
        "\n",
        "             # The charge process has finished and\n",
        "             # we can start driving again.\n",
        "             print('Start driving at %d' % self.env.now)\n",
        "             trip_duration = 2\n",
        "             yield self.env.timeout(trip_duration)\n",
        "\n",
        "     def charge(self, duration):\n",
        "         yield self.env.timeout(duration)"
      ]
    },
    {
      "cell_type": "code",
      "execution_count": 9,
      "id": "4c2c2da7",
      "metadata": {
        "colab": {
          "base_uri": "https://localhost:8080/"
        },
        "id": "4c2c2da7",
        "outputId": "11d1784b-4d82-4ba9-e87a-ba470a10e7d3"
      },
      "outputs": [
        {
          "output_type": "stream",
          "name": "stdout",
          "text": [
            "2\n",
            "3\n",
            "Start parking and charging at 2\n",
            "Start parking and charging at 3\n",
            "Start driving at 7\n",
            "Start driving at 8\n",
            "Start parking and charging at 9\n",
            "Start parking and charging at 10\n",
            "Start driving at 14\n"
          ]
        }
      ],
      "source": [
        "env = simpy.Environment()\n",
        "car = Car(env, 2)     # I am passing delay to start of process run\n",
        "car1 = Car(env, 3)   # added another car\n",
        "#car.action = env.process(car.run()) ## here we say process is run\n",
        "#start_delayed(env, car1.run(),2)           ## here process start is delayed by 2\n",
        "env.run(until=15)"
      ]
    },
    {
      "cell_type": "code",
      "execution_count": 10,
      "id": "f1156ae7",
      "metadata": {
        "id": "f1156ae7"
      },
      "outputs": [],
      "source": [
        "def driver(env, car):\n",
        "    yield env.timeout(3)\n",
        "    car.action.interrupt()\n"
      ]
    },
    {
      "cell_type": "code",
      "execution_count": 11,
      "id": "32493418",
      "metadata": {
        "id": "32493418"
      },
      "outputs": [],
      "source": [
        "class Car(object):\n",
        "     def __init__(self, env, name):\n",
        "         self.env = env\n",
        "         self.name = name   # pass the name of the car to simulation process \n",
        "         # Start the run process everytime an instance is created.\n",
        "       #  self.action = env.process(self.run())\n",
        "\n",
        "     def run(self):\n",
        "         while True:\n",
        "             print(self.name, 'Start parking and charging at %d' % self.env.now)\n",
        "             charge_duration = 5\n",
        "             try:\n",
        "             # We yield the process that process() returns\n",
        "             # to wait for it to finish\n",
        "                 yield self.env.process(self.charge(charge_duration))\n",
        "             except simpy.Interrupt:       # changed to Interrupt\n",
        "                print(self.name, 'was interrupted. Hope battery full ...')\n",
        "\n",
        "             # The charge process has finished and\n",
        "             # we can start driving again.\n",
        "             print(self.name, 'Start driving at %d' % self.env.now)\n",
        "             trip_duration = 2\n",
        "             try:\n",
        "                 yield self.env.timeout(trip_duration)\n",
        "             except simpy.Interrupt:\n",
        "                print(self.name, 'was rudely interrupted again')\n",
        "\n",
        "     def charge(self, duration):\n",
        "         yield self.env.timeout(duration)"
      ]
    },
    {
      "cell_type": "code",
      "execution_count": 12,
      "id": "97d95d0d",
      "metadata": {
        "colab": {
          "base_uri": "https://localhost:8080/"
        },
        "id": "97d95d0d",
        "outputId": "5b293ab0-29f5-4ac9-bb06-b9c89d1e401c"
      },
      "outputs": [
        {
          "output_type": "stream",
          "name": "stdout",
          "text": [
            "3 Start parking and charging at 0\n",
            "3 was interrupted. Hope battery full ...\n",
            "3 Start driving at 3\n",
            "21 Start parking and charging at 3\n",
            "3 Start parking and charging at 5\n",
            "21 Start driving at 8\n",
            "21 Start parking and charging at 10\n",
            "3 Start driving at 10\n",
            "3 Start parking and charging at 12\n",
            "15\n",
            "21 Start driving at 15\n",
            "21 Start parking and charging at 17\n",
            "3 Start driving at 17\n",
            "3 was rudely interrupted again\n",
            "3 Start parking and charging at 18\n",
            "21 Start driving at 22\n",
            "3 Start driving at 23\n"
          ]
        }
      ],
      "source": [
        "env = simpy.Environment()\n",
        "car = Car(env, 3)\n",
        "car1 = Car(env, 21)\n",
        "car.action = env.process(car.run())\n",
        "env.process(driver(env,car))\n",
        "#env.process(car1.run())\n",
        "start_delayed(env, car1.run(), 3)\n",
        "env.run(until=15)\n",
        "print(env.now)\n",
        "env.process(driver(env,car))\n",
        "env.run(until=24)"
      ]
    },
    {
      "cell_type": "code",
      "execution_count": 13,
      "id": "808d1f6e",
      "metadata": {
        "id": "808d1f6e"
      },
      "outputs": [],
      "source": [
        "def car(env, name, bcs, driving_time, charge_duration):\n",
        "     # Simulate driving to the BCS\n",
        "     yield env.timeout(driving_time)\n",
        "\n",
        "     # Request one of its charging spots\n",
        "     print('%s arriving at %d' % (name, env.now))\n",
        "     with bcs.request() as req:\n",
        "         yield req\n",
        "\n",
        "         # Charge the battery\n",
        "         print('%s starting to charge at %s' % (name, env.now))\n",
        "         yield env.timeout(charge_duration)\n",
        "         print('%s leaving the bcs at %s' % (name, env.now))"
      ]
    },
    {
      "cell_type": "code",
      "execution_count": 14,
      "id": "1bcf82bb",
      "metadata": {
        "id": "1bcf82bb"
      },
      "outputs": [],
      "source": [
        "env = simpy.Environment()\n",
        "bcs = simpy.Resource(env, capacity=3)"
      ]
    },
    {
      "cell_type": "code",
      "execution_count": 15,
      "id": "d06788b7",
      "metadata": {
        "id": "d06788b7"
      },
      "outputs": [],
      "source": [
        "for i in range(4):\n",
        "   env.process(car(env, 'Car %d' % i, bcs, i*2, 5))"
      ]
    },
    {
      "cell_type": "code",
      "execution_count": 16,
      "id": "fd9d7446",
      "metadata": {
        "colab": {
          "base_uri": "https://localhost:8080/"
        },
        "id": "fd9d7446",
        "outputId": "437d6ac8-6b61-4cff-cfda-cd9756319ace"
      },
      "outputs": [
        {
          "output_type": "stream",
          "name": "stdout",
          "text": [
            "Car 0 arriving at 0\n",
            "Car 0 starting to charge at 0\n",
            "Car 1 arriving at 2\n",
            "Car 1 starting to charge at 2\n",
            "Car 2 arriving at 4\n",
            "Car 2 starting to charge at 4\n",
            "Car 0 leaving the bcs at 5\n",
            "Car 3 arriving at 6\n",
            "Car 3 starting to charge at 6\n",
            "Car 1 leaving the bcs at 7\n",
            "Car 2 leaving the bcs at 9\n",
            "Car 3 leaving the bcs at 11\n"
          ]
        }
      ],
      "source": [
        "env.run()"
      ]
    },
    {
      "cell_type": "code",
      "execution_count": 17,
      "id": "0af724e2",
      "metadata": {
        "id": "0af724e2"
      },
      "outputs": [],
      "source": [
        "import simpy\n",
        "import random"
      ]
    },
    {
      "cell_type": "code",
      "execution_count": 18,
      "id": "16a5689f",
      "metadata": {
        "id": "16a5689f"
      },
      "outputs": [],
      "source": [
        "RANDOM_SEED = 42\n",
        "NEW_CUSTOMERS = 5  # Total number of customers\n",
        "INTERVAL_CUSTOMERS = 10.0  # Generate new customers roughly every x seconds\n",
        "MIN_PATIENCE = 1  # Min. customer patience\n",
        "MAX_PATIENCE = 3  # Max. customer patience\n",
        "\n",
        "\n",
        "def source(env, number, interval, counter):\n",
        "    \"\"\"Source generates customers randomly\"\"\"\n",
        "    for i in range(number):\n",
        "        c = customer(env, 'Customer%02d' % i, counter, time_in_bank=12.0)\n",
        "        env.process(c)\n",
        "        t = random.expovariate(1.0 / interval)\n",
        "        yield env.timeout(t)\n",
        "\n",
        "\n",
        "def customer(env, name, counter, time_in_bank):\n",
        "    \"\"\"Customer arrives, is served and leaves.\"\"\"\n",
        "    arrive = env.now\n",
        "    print('%7.4f %s: Here I am' % (arrive, name))\n",
        "\n",
        "    with counter.request() as req:\n",
        "        patience = random.uniform(MIN_PATIENCE, MAX_PATIENCE)\n",
        "        # Wait for the counter or abort at the end of our tether\n",
        "        results = yield req | env.timeout(patience)\n",
        "\n",
        "        wait = env.now - arrive\n",
        "\n",
        "        if req in results:\n",
        "            # We got to the counter\n",
        "            print('%7.4f %s: Waited %6.3f' % (env.now, name, wait))\n",
        "\n",
        "            tib = random.expovariate(1.0 / time_in_bank)\n",
        "            yield env.timeout(tib)\n",
        "            print('%7.4f %s: Finished' % (env.now, name))\n",
        "\n",
        "        else:\n",
        "            # We reneged\n",
        "            print('%7.4f %s: RENEGED after %6.3f' % (env.now, name, wait))\n"
      ]
    },
    {
      "cell_type": "code",
      "execution_count": 19,
      "id": "85b95d16",
      "metadata": {
        "colab": {
          "base_uri": "https://localhost:8080/"
        },
        "id": "85b95d16",
        "outputId": "3c7f4715-c3e8-41ce-d30e-d3e6a991aeac"
      },
      "outputs": [
        {
          "output_type": "stream",
          "name": "stdout",
          "text": [
            "Bank renege\n",
            " 0.0000 Customer00: Here I am\n",
            " 0.0000 Customer00: Waited  0.000\n",
            " 3.8595 Customer00: Finished\n",
            "10.2006 Customer01: Here I am\n",
            "10.2006 Customer01: Waited  0.000\n",
            "12.7265 Customer02: Here I am\n",
            "13.9003 Customer02: RENEGED after  1.174\n",
            "23.7507 Customer01: Finished\n",
            "34.9993 Customer03: Here I am\n",
            "34.9993 Customer03: Waited  0.000\n",
            "37.9599 Customer03: Finished\n",
            "40.4798 Customer04: Here I am\n",
            "40.4798 Customer04: Waited  0.000\n",
            "43.1401 Customer04: Finished\n"
          ]
        }
      ],
      "source": [
        "# Setup and start the simulation\n",
        "print('Bank renege')\n",
        "random.seed(RANDOM_SEED)\n",
        "env = simpy.Environment()\n",
        "\n",
        "# Start processes and run\n",
        "counter = simpy.Resource(env, capacity=1)\n",
        "env.process(source(env, NEW_CUSTOMERS, INTERVAL_CUSTOMERS, counter))\n",
        "env.run()"
      ]
    },
    {
      "cell_type": "code",
      "execution_count": 20,
      "id": "cb81d05f",
      "metadata": {
        "colab": {
          "base_uri": "https://localhost:8080/"
        },
        "id": "cb81d05f",
        "outputId": "44c09f7f-805d-4029-82fb-472dc3eb36a6"
      },
      "outputs": [
        {
          "output_type": "stream",
          "name": "stdout",
          "text": [
            "Carwash\n",
            "Check out http://youtu.be/fXXmeP9TvBg while simulating ... ;-)\n",
            "Car 0 arrives at the carwash at 0.00.\n",
            "Car 1 arrives at the carwash at 0.00.\n",
            "Car 2 arrives at the carwash at 0.00.\n",
            "Car 3 arrives at the carwash at 0.00.\n",
            "Car 0 enters the carwash at 0.00.\n",
            "Car 1 enters the carwash at 0.00.\n",
            "Car 4 arrives at the carwash at 5.00.\n",
            "Carwash removed 97% of Car 0's dirt.\n",
            "Carwash removed 67% of Car 1's dirt.\n",
            "Car 0 leaves the carwash at 5.00.\n",
            "Car 1 leaves the carwash at 5.00.\n",
            "Car 2 enters the carwash at 5.00.\n",
            "Car 3 enters the carwash at 5.00.\n",
            "Car 5 arrives at the carwash at 10.00.\n",
            "Carwash removed 64% of Car 2's dirt.\n",
            "Carwash removed 58% of Car 3's dirt.\n",
            "Car 2 leaves the carwash at 10.00.\n",
            "Car 3 leaves the carwash at 10.00.\n",
            "Car 4 enters the carwash at 10.00.\n",
            "Car 5 enters the carwash at 10.00.\n",
            "Carwash removed 97% of Car 4's dirt.\n",
            "Carwash removed 56% of Car 5's dirt.\n",
            "Car 4 leaves the carwash at 15.00.\n",
            "Car 5 leaves the carwash at 15.00.\n",
            "Car 6 arrives at the carwash at 16.00.\n",
            "Car 6 enters the carwash at 16.00.\n"
          ]
        }
      ],
      "source": [
        "\"\"\"\n",
        "Carwash example.\n",
        "\n",
        "Covers:\n",
        "\n",
        "- Waiting for other processes\n",
        "- Resources: Resource\n",
        "\n",
        "Scenario:\n",
        "  A carwash has a limited number of washing machines and defines\n",
        "  a washing processes that takes some (random) time.\n",
        "\n",
        "  Car processes arrive at the carwash at a random time. If one washing\n",
        "  machine is available, they start the washing process and wait for it\n",
        "  to finish. If not, they wait until they an use one.\n",
        "\n",
        "\"\"\"\n",
        "import random\n",
        "\n",
        "import simpy\n",
        "\n",
        "\n",
        "RANDOM_SEED = 42\n",
        "NUM_MACHINES = 2  # Number of machines in the carwash\n",
        "WASHTIME = 5      # Minutes it takes to clean a car\n",
        "T_INTER = 7       # Create a car every ~7 minutes\n",
        "SIM_TIME = 20     # Simulation time in minutes\n",
        "\n",
        "\n",
        "class Carwash(object):\n",
        "    \"\"\"A carwash has a limited number of machines (``NUM_MACHINES``) to\n",
        "    clean cars in parallel.\n",
        "\n",
        "    Cars have to request one of the machines. When they got one, they\n",
        "    can start the washing processes and wait for it to finish (which\n",
        "    takes ``washtime`` minutes).\n",
        "\n",
        "    \"\"\"\n",
        "    def __init__(self, env, num_machines, washtime):\n",
        "        self.env = env\n",
        "        self.machine = simpy.Resource(env, num_machines)\n",
        "        self.washtime = washtime\n",
        "\n",
        "    def wash(self, car):\n",
        "        \"\"\"The washing processes. It takes a ``car`` processes and tries\n",
        "        to clean it.\"\"\"\n",
        "        yield self.env.timeout(WASHTIME)\n",
        "        print(\"Carwash removed %d%% of %s's dirt.\" %\n",
        "              (random.randint(50, 99), car))\n",
        "\n",
        "\n",
        "def car(env, name, cw):\n",
        "    \"\"\"The car process (each car has a ``name``) arrives at the carwash\n",
        "    (``cw``) and requests a cleaning machine.\n",
        "\n",
        "    It then starts the washing process, waits for it to finish and\n",
        "    leaves to never come back ...\n",
        "\n",
        "    \"\"\"\n",
        "    print('%s arrives at the carwash at %.2f.' % (name, env.now))\n",
        "    with cw.machine.request() as request:\n",
        "        yield request\n",
        "\n",
        "        print('%s enters the carwash at %.2f.' % (name, env.now))\n",
        "        yield env.process(cw.wash(name))\n",
        "\n",
        "        print('%s leaves the carwash at %.2f.' % (name, env.now))\n",
        "\n",
        "\n",
        "def setup(env, num_machines, washtime, t_inter):\n",
        "    \"\"\"Create a carwash, a number of initial cars and keep creating cars\n",
        "    approx. every ``t_inter`` minutes.\"\"\"\n",
        "    # Create the carwash\n",
        "    carwash = Carwash(env, num_machines, washtime)\n",
        "\n",
        "    # Create 4 initial cars\n",
        "    for i in range(4):\n",
        "        env.process(car(env, 'Car %d' % i, carwash))\n",
        "\n",
        "    # Create more cars while the simulation is running\n",
        "    while True:\n",
        "        yield env.timeout(random.randint(t_inter - 2, t_inter + 2))\n",
        "        i += 1\n",
        "        env.process(car(env, 'Car %d' % i, carwash))\n",
        "\n",
        "\n",
        "# Setup and start the simulation\n",
        "print('Carwash')\n",
        "print('Check out http://youtu.be/fXXmeP9TvBg while simulating ... ;-)')\n",
        "random.seed(RANDOM_SEED)  # This helps reproducing the results\n",
        "\n",
        "# Create an environment and start the setup process\n",
        "env = simpy.Environment()\n",
        "env.process(setup(env, NUM_MACHINES, WASHTIME, T_INTER))\n",
        "\n",
        "# Execute!\n",
        "env.run(until=SIM_TIME)"
      ]
    },
    {
      "cell_type": "code",
      "execution_count": null,
      "id": "43135d21",
      "metadata": {
        "id": "43135d21"
      },
      "outputs": [],
      "source": [
        ""
      ]
    }
  ],
  "metadata": {
    "kernelspec": {
      "display_name": "Python 3 (ipykernel)",
      "language": "python",
      "name": "python3"
    },
    "language_info": {
      "codemirror_mode": {
        "name": "ipython",
        "version": 3
      },
      "file_extension": ".py",
      "mimetype": "text/x-python",
      "name": "python",
      "nbconvert_exporter": "python",
      "pygments_lexer": "ipython3",
      "version": "3.8.3"
    },
    "colab": {
      "name": "simpyDemo.ipynb",
      "provenance": [],
      "include_colab_link": true
    }
  },
  "nbformat": 4,
  "nbformat_minor": 5
}