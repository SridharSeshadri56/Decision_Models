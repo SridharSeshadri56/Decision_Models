{
  "cells": [
    {
      "cell_type": "markdown",
      "metadata": {
        "id": "view-in-github",
        "colab_type": "text"
      },
      "source": [
        "<a href=\"https://colab.research.google.com/github/SridharSeshadri56/Decision_Models/blob/main/crew_scheduling_problem.ipynb\" target=\"_parent\"><img src=\"https://colab.research.google.com/assets/colab-badge.svg\" alt=\"Open In Colab\"/></a>"
      ]
    },
    {
      "cell_type": "code",
      "execution_count": null,
      "metadata": {
        "id": "3m6MN1Ds4OnK"
      },
      "outputs": [],
      "source": [
        "# Sets up flight scheduling problem from set of feasible flight sequence to flights\n",
        "# Cost of each flight sequence and mapping of sequence to flights are given.\n",
        "# Maximum number of available crew is given"
      ]
    },
    {
      "cell_type": "code",
      "execution_count": null,
      "metadata": {
        "id": "IUCeDFGK4OnR"
      },
      "outputs": [],
      "source": [
        "pip install pyomo  #Installs the modeling language called pyomo"
      ]
    },
    {
      "cell_type": "code",
      "execution_count": null,
      "metadata": {
        "id": "vI8JWO4Y4OnT"
      },
      "outputs": [],
      "source": [
        "# The GLPK (GNU Linear Programming Kit) package is intended for solving large-scale linear programming (LP), \n",
        "# mixed integer programming (MIP), and other related problems. It is a set of routines written in ANSI C and \n",
        "# organized in the form of a callable library.\n",
        "!apt-get install -y -qq glpk-utils  #Installs the optimization engine called glpk.\n"
      ]
    },
    {
      "cell_type": "code",
      "source": [
        "from pyomo.environ import *"
      ],
      "metadata": {
        "id": "v0L1WXYANi0j"
      },
      "execution_count": null,
      "outputs": []
    },
    {
      "cell_type": "code",
      "execution_count": null,
      "metadata": {
        "id": "CvC4osw-4On2"
      },
      "outputs": [],
      "source": [
        "\n",
        "flights = ['SFO-LAX','SFO-DEN', 'SFO-SEA', 'LAX-ORD', 'LAX-SFO', 'ORD-DEN', \\\n",
        "           'ORD-SEA', 'DEN-SFO', 'DEN-ORD', 'SEA-SFO', 'SEA-LAX' ]    # This is the set of flights\n",
        "\n",
        "feasible_sequence = list(range(1,13) )                                # This is the sequences (range 1 to 12 converted to a list)\n",
        "\n",
        "cost_sequence = [2, 3, 4, 6, 7, 5, 7, 8, 9, 9, 8, 9]                  # cost of flight sequence\n",
        "\n",
        " # this creates a list with flights and sequence\n",
        "\n",
        "is_flight_in_sequence = [('SFO-LAX', 1), ('SFO-LAX', 4), \\\n",
        "                        ('SFO-LAX', 7), ('SFO-LAX', 10), \\\n",
        "                         ('SFO-DEN', 2), ('SFO-DEN', 5), ('SFO-DEN', 8), ('SFO-DEN', 11),  \\\n",
        "                          ('SFO-SEA', 3), ('SFO-SEA', 6), ('SFO-SEA', 9), ('SFO-SEA', 12), \\\n",
        "                         ('LAX-ORD', 4), ('LAX-ORD', 7),  ('LAX-ORD', 9), ('LAX-ORD', 10), ('LAX-ORD', 12), \\\n",
        "                         ('LAX-SFO', 1), ('LAX-SFO', 6),  ('LAX-SFO', 10), ('LAX-SFO', 11), \\\n",
        "                         ('ORD-DEN', 4),  ('ORD-DEN', 5), ('ORD-DEN', 9), \\\n",
        "                          ('ORD-SEA', 7), ('ORD-SEA', 8), \\\n",
        "                         ('ORD-SEA', 10), ('ORD-SEA', 11), ('ORD-SEA', 12), \\\n",
        "                         ('DEN-SFO', 2),  ('DEN-SFO', 4), \\\n",
        "                         ('DEN-SFO', 5),  ('DEN-SFO', 9), \\\n",
        "                          ('DEN-ORD', 5), ('DEN-ORD', 8), \\\n",
        "                          ('DEN-ORD', 11), \\\n",
        "                         ('SEA-SFO', 3), ('SEA-SFO', 7), ('SEA-SFO', 8), \\\n",
        "                         ('SEA-SFO', 12), \\\n",
        "                         ('SEA-LAX', 6), \\\n",
        "                         ('SEA-LAX', 9), ('SEA-LAX', 10), ('SEA-LAX', 11), ('SEA-LAX', 12)] \n",
        "\n",
        "max_crew = 4                                                          # only 3 crew available\n"
      ]
    },
    {
      "cell_type": "code",
      "source": [
        "\n",
        "constraints = {'supply_constraint', 'demand_constraint'}           # The  set of constraints\n",
        "\n",
        "model = ConcreteModel(name = \"(Model2)\")                            # Same as previous\n",
        "model.x = Var( feasible_sequence, within= Binary )       # Decision variables are the flows from - to\n",
        "model.value = Objective(                                            # Objective\n",
        "expr = sum( cost_sequence[i-1]*model.x[i] for i in feasible_sequence), sense = minimize )  # Minimize total crew cost\n",
        "\n",
        "# This defines a rule called demand must be met. \n",
        "\n",
        "def demand_must_be_met_rule(m,c):\n",
        "    return sum(m.x[is_flight_in_sequence[j][1]] for j in range(len(is_flight_in_sequence)) if c == is_flight_in_sequence[j][0]) >= 1    \n",
        "    # sums whether flight sequences covering flight c add up to greater than one\n",
        "\n",
        "# This defines in our model the constraints! Note that we simply pass the set of constraints and the rule. It does the rest.\n",
        "# model is by default when we call (recall model can be renamed as you like )\n",
        "model.demand_constraint = Constraint(flights, rule = demand_must_be_met_rule)   # applies to each flight\n",
        "\n",
        "model.supply_constraint = Constraint(expr = sum (model.x[i] for i in feasible_sequence) <= max_crew)  # Max crew size\n",
        "\n",
        "opt = SolverFactory('glpk')           # same as before\n",
        "\n",
        "model.dual = Suffix(direction=Suffix.IMPORT_EXPORT)   # same as before\n",
        "results = opt.solve(model, tee= True)                 # same as before"
      ],
      "metadata": {
        "id": "DkT5d48DNsVE"
      },
      "execution_count": null,
      "outputs": []
    },
    {
      "cell_type": "code",
      "execution_count": null,
      "metadata": {
        "id": "I1YRjt6W4On5"
      },
      "outputs": [],
      "source": [
        "model.pprint()"
      ]
    }
  ],
  "metadata": {
    "kernelspec": {
      "display_name": "Python 3 (ipykernel)",
      "language": "python",
      "name": "python3"
    },
    "language_info": {
      "codemirror_mode": {
        "name": "ipython",
        "version": 3
      },
      "file_extension": ".py",
      "mimetype": "text/x-python",
      "name": "python",
      "nbconvert_exporter": "python",
      "pygments_lexer": "ipython3",
      "version": "3.8.3"
    },
    "colab": {
      "name": "Copy of pyomoDemo.ipynb",
      "provenance": [],
      "include_colab_link": true
    }
  },
  "nbformat": 4,
  "nbformat_minor": 0
}