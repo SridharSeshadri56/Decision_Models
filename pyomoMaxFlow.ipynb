{
  "cells": [
    {
      "cell_type": "markdown",
      "metadata": {
        "id": "view-in-github",
        "colab_type": "text"
      },
      "source": [
        "<a href=\"https://colab.research.google.com/github/SridharSeshadri56/Decision_Models/blob/main/pyomoMaxFlow.ipynb\" target=\"_parent\"><img src=\"https://colab.research.google.com/assets/colab-badge.svg\" alt=\"Open In Colab\"/></a>"
      ]
    },
    {
      "cell_type": "code",
      "execution_count": null,
      "metadata": {
        "id": "oKni9vzIn_27"
      },
      "outputs": [],
      "source": [
        "# Sets up a max flow problem on a given network. Data are nodes, arcs, capacities of arcs. \n",
        "# Objective is to maximize the Net Flow to the demand node. (If there are many demand nodes one can connect them to a dummy node \n",
        "# and maximize flow)"
      ]
    },
    {
      "cell_type": "code",
      "execution_count": 1,
      "metadata": {
        "colab": {
          "base_uri": "https://localhost:8080/"
        },
        "id": "Tt-jk9NKn_3D",
        "outputId": "cca429c0-321b-4806-8728-9b2ed20ad265"
      },
      "outputs": [
        {
          "output_type": "stream",
          "name": "stdout",
          "text": [
            "Collecting pyomo\n",
            "  Downloading Pyomo-6.3.0-cp37-cp37m-manylinux_2_12_x86_64.manylinux2010_x86_64.whl (9.6 MB)\n",
            "\u001b[K     |████████████████████████████████| 9.6 MB 11.9 MB/s \n",
            "\u001b[?25hCollecting ply\n",
            "  Downloading ply-3.11-py2.py3-none-any.whl (49 kB)\n",
            "\u001b[K     |████████████████████████████████| 49 kB 4.1 MB/s \n",
            "\u001b[?25hInstalling collected packages: ply, pyomo\n",
            "Successfully installed ply-3.11 pyomo-6.3.0\n"
          ]
        }
      ],
      "source": [
        "pip install pyomo"
      ]
    },
    {
      "cell_type": "code",
      "execution_count": 2,
      "metadata": {
        "colab": {
          "base_uri": "https://localhost:8080/"
        },
        "id": "KFJS4ffFn_3F",
        "outputId": "11986476-0e01-4c63-b8f5-9f8c785e21b9"
      },
      "outputs": [
        {
          "output_type": "stream",
          "name": "stdout",
          "text": [
            "Selecting previously unselected package libsuitesparseconfig5:amd64.\n",
            "(Reading database ... 155320 files and directories currently installed.)\n",
            "Preparing to unpack .../libsuitesparseconfig5_1%3a5.1.2-2_amd64.deb ...\n",
            "Unpacking libsuitesparseconfig5:amd64 (1:5.1.2-2) ...\n",
            "Selecting previously unselected package libamd2:amd64.\n",
            "Preparing to unpack .../libamd2_1%3a5.1.2-2_amd64.deb ...\n",
            "Unpacking libamd2:amd64 (1:5.1.2-2) ...\n",
            "Selecting previously unselected package libcolamd2:amd64.\n",
            "Preparing to unpack .../libcolamd2_1%3a5.1.2-2_amd64.deb ...\n",
            "Unpacking libcolamd2:amd64 (1:5.1.2-2) ...\n",
            "Selecting previously unselected package libglpk40:amd64.\n",
            "Preparing to unpack .../libglpk40_4.65-1_amd64.deb ...\n",
            "Unpacking libglpk40:amd64 (4.65-1) ...\n",
            "Selecting previously unselected package glpk-utils.\n",
            "Preparing to unpack .../glpk-utils_4.65-1_amd64.deb ...\n",
            "Unpacking glpk-utils (4.65-1) ...\n",
            "Setting up libsuitesparseconfig5:amd64 (1:5.1.2-2) ...\n",
            "Setting up libcolamd2:amd64 (1:5.1.2-2) ...\n",
            "Setting up libamd2:amd64 (1:5.1.2-2) ...\n",
            "Setting up libglpk40:amd64 (4.65-1) ...\n",
            "Setting up glpk-utils (4.65-1) ...\n",
            "Processing triggers for libc-bin (2.27-3ubuntu1.3) ...\n",
            "/sbin/ldconfig.real: /usr/local/lib/python3.7/dist-packages/ideep4py/lib/libmkldnn.so.0 is not a symbolic link\n",
            "\n",
            "Processing triggers for man-db (2.8.3-2ubuntu0.1) ...\n"
          ]
        }
      ],
      "source": [
        "!apt-get install -y -qq glpk-utils  #Installs the optimization engine called glpk."
      ]
    },
    {
      "cell_type": "code",
      "execution_count": 3,
      "metadata": {
        "colab": {
          "base_uri": "https://localhost:8080/"
        },
        "id": "XU5cQtHon_3H",
        "outputId": "c5dcb94d-ba4c-41a5-e6e0-99b12191fe00"
      },
      "outputs": [
        {
          "output_type": "stream",
          "name": "stdout",
          "text": [
            "GLPSOL: GLPK LP/MIP Solver, v4.65\n",
            "Parameter(s) specified in the command line:\n",
            " --write /tmp/tmpwfxi8ral.glpk.raw --wglp /tmp/tmpv_nnnre1.glpk.glp --cpxlp\n",
            " /tmp/tmpx2fcuvgs.pyomo.lp\n",
            "Reading problem data from '/tmp/tmpx2fcuvgs.pyomo.lp'...\n",
            "17 rows, 10 columns, 28 non-zeros\n",
            "98 lines were read\n",
            "Writing problem data to '/tmp/tmpv_nnnre1.glpk.glp'...\n",
            "77 lines were written\n",
            "GLPK Simplex Optimizer, v4.65\n",
            "17 rows, 10 columns, 28 non-zeros\n",
            "Preprocessing...\n",
            "5 rows, 9 columns, 13 non-zeros\n",
            "Scaling...\n",
            " A: min|aij| =  1.000e+00  max|aij| =  1.000e+00  ratio =  1.000e+00\n",
            "Problem data seem to be well scaled\n",
            "Constructing initial basis...\n",
            "Size of triangular part is 5\n",
            "*     0: obj =  -0.000000000e+00 inf =   0.000e+00 (2)\n",
            "*    10: obj =   1.500000000e+02 inf =   0.000e+00 (0)\n",
            "OPTIMAL LP SOLUTION FOUND\n",
            "Time used:   0.0 secs\n",
            "Memory used: 0.0 Mb (40847 bytes)\n",
            "Writing basic solution to '/tmp/tmpwfxi8ral.glpk.raw'...\n",
            "36 lines were written\n"
          ]
        }
      ],
      "source": [
        "from pyomo.environ import *\n",
        "nodes = ['Stuttgart', 'Rotterdam', 'Bordeaux', 'Lisbon', 'NewYork', 'NewOrleans', 'LosAngeles']     #The nodes in the network\n",
        "\n",
        "#The arcs in the network which will serve to define decision variables\n",
        "arcs = { ('Stuttgart', 'Rotterdam'), ('Stuttgart','Bordeaux'), ('Stuttgart', 'Lisbon'), \\\n",
        "       ('Rotterdam', 'NewYork'), ('Bordeaux', 'NewYork'), ('Bordeaux', 'NewOrleans'), \\\n",
        "       ('Lisbon','NewOrleans'), ('NewYork', 'LosAngeles'), ('NewOrleans', 'LosAngeles')}\n",
        "\n",
        "     #Max flow on arcs  \n",
        "arc_capacity =  { ('Stuttgart', 'Rotterdam'):50, ('Stuttgart','Bordeaux'):70, ('Stuttgart', 'Lisbon'):40, \\\n",
        "       ('Rotterdam', 'NewYork'):60, ('Bordeaux', 'NewYork'):40, ('Bordeaux', 'NewOrleans'):50, \\\n",
        "       ('Lisbon','NewOrleans'):30, ('NewYork', 'LosAngeles'):80, ('NewOrleans', 'LosAngeles'):70}\n",
        "\n",
        " # Demand > 0 means supply node, < 0 means demand, = 0 means transhipment node\n",
        "demand = { 'Stuttgart':1000, 'Rotterdam':0, 'Bordeaux':0, 'Lisbon':0, 'NewYork':0, 'NewOrleans':0, 'LosAngeles':0 }\n",
        "# Note I set demand = 0 at Los Angeles. So it can take any amount of inflow.Recall inflow is negative.\n",
        "# I set supply to be large (1000) at Stuttgart so it does not limit the solution\n",
        "\n",
        "model = ConcreteModel(name = \"(Model2)\")                #Object to define the model (any name on left hand side ok)\n",
        "\n",
        "model.x = Var( arcs, within= NonNegativeReals )         #The decision variables are flows in the arcs\n",
        "\n",
        "model.value = Objective(\n",
        "expr = sum(- model.x[i,j] for (i,j) in arcs if i == 'LosAngeles') + \\\n",
        "    sum(  model.x[i,j] for (i, j) in arcs if j == 'LosAngeles'), sense = maximize )  # Maximize net flow to Los Angeles\n",
        "# Note it is in form inflows minus outflow = net flow\n",
        "\n",
        "\n",
        "def one_per_node(m,c):                          # For any node outflow - inflow <= demand\n",
        "    return sum(m.x[i,j] for (i,j) in arcs if i == c) - sum(m.x[i,j] for (i,j) in arcs if j == c) <= demand [c]\n",
        "\n",
        "# Limit of arc capacity\n",
        "def one_per_arc(m,c1, c2):\n",
        "    return m.x[c1, c2] <= arc_capacity[c1, c2]\n",
        "\n",
        "model.one_per_node = Constraint(nodes, rule = one_per_node)   #Net flow should be less than or equal to demand\n",
        "model.one_per_arc  = Constraint(arcs, rule = one_per_arc)     #Max flow on arc can not exceed arc capacity\n",
        "\n",
        "opt = SolverFactory('glpk')\n",
        "\n",
        "model.dual = Suffix(direction=Suffix.IMPORT_EXPORT)\n",
        "results = opt.solve(model, tee= True)"
      ]
    },
    {
      "cell_type": "code",
      "execution_count": null,
      "metadata": {
        "id": "CSHn2Qt7n_3L"
      },
      "outputs": [],
      "source": [
        "model.pprint()"
      ]
    },
    {
      "cell_type": "code",
      "execution_count": null,
      "metadata": {
        "id": "kY7lWAywn_3M"
      },
      "outputs": [],
      "source": [
        ""
      ]
    },
    {
      "cell_type": "code",
      "execution_count": null,
      "metadata": {
        "id": "OoGevc1kn_3N"
      },
      "outputs": [],
      "source": [
        ""
      ]
    }
  ],
  "metadata": {
    "kernelspec": {
      "display_name": "Python 3 (ipykernel)",
      "language": "python",
      "name": "python3"
    },
    "language_info": {
      "codemirror_mode": {
        "name": "ipython",
        "version": 3
      },
      "file_extension": ".py",
      "mimetype": "text/x-python",
      "name": "python",
      "nbconvert_exporter": "python",
      "pygments_lexer": "ipython3",
      "version": "3.8.3"
    },
    "colab": {
      "name": "pyomoMaxFlow.ipynb",
      "provenance": [],
      "include_colab_link": true
    }
  },
  "nbformat": 4,
  "nbformat_minor": 0
}