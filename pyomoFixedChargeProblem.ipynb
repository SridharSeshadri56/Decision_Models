{
  "cells": [
    {
      "cell_type": "markdown",
      "metadata": {
        "id": "view-in-github",
        "colab_type": "text"
      },
      "source": [
        "<a href=\"https://colab.research.google.com/github/SridharSeshadri56/Decision_Models/blob/main/pyomoFixedChargeProblem.ipynb\" target=\"_parent\"><img src=\"https://colab.research.google.com/assets/colab-badge.svg\" alt=\"Open In Colab\"/></a>"
      ]
    },
    {
      "cell_type": "code",
      "execution_count": null,
      "metadata": {
        "id": "3m6MN1Ds4OnK"
      },
      "outputs": [],
      "source": [
        "# Sets up Fixed Charge problem from set of supply nodes to demand nodes \n",
        "# Cost of shipping per unit from supply to demand nodes, supply at supply nodes, \n",
        "# demand at demand nodes are given, capacity and fixed cost of capacity at supply nodes "
      ]
    },
    {
      "cell_type": "code",
      "execution_count": null,
      "metadata": {
        "id": "IUCeDFGK4OnR"
      },
      "outputs": [],
      "source": [
        "pip install pyomo  #Installs the modeling language called pyomo"
      ]
    },
    {
      "cell_type": "code",
      "execution_count": null,
      "metadata": {
        "id": "vI8JWO4Y4OnT"
      },
      "outputs": [],
      "source": [
        "# The GLPK (GNU Linear Programming Kit) package is intended for solving large-scale linear programming (LP), \n",
        "# mixed integer programming (MIP), and other related problems. It is a set of routines written in ANSI C and \n",
        "# organized in the form of a callable library.\n",
        "!apt-get install -y -qq glpk-utils  #Installs the optimization engine called glpk.\n"
      ]
    },
    {
      "cell_type": "code",
      "execution_count": null,
      "metadata": {
        "id": "CvC4osw-4On2"
      },
      "outputs": [],
      "source": [
        "from pyomo.environ import *\n",
        "import itertools                          # package helps create products of sets. here I use to create product of demand and supply sets\n",
        "\n",
        "demand_points = ['A', 'B', 'C', 'D', 'O', 'P']    # This is the set of demand points\n",
        "supply_points = ['L', 'H', 'S', 'M', 'W']                        # This is the set of supply points\n",
        "\n",
        "demand = {'A': 10, 'B': 8, 'C': 14, 'D': 6, 'O':7, 'P':11}          # demand at demand points \n",
        "supply = {'L': 18, 'H': 24, 'S': 27, 'M':22, 'W':31}                # max supply capacity at supply points if open\n",
        "fixed_cost = {'L': 7650, 'H': 3500, 'S': 5000, 'M':4100, 'W':2200}\n",
        "\n",
        "flows_from_to_arcs = list(itertools.product(supply, demand))   # this creates a list with supply and demand point names\n",
        "                                                               # this will become our set of variables\n",
        "                                                               # we could loop over supply and demand and add to a list instead\n",
        "\n",
        "cost_from_to = {('L','A'):1675, ('L','B'): 400, ('L','C'): 685, ('L', 'D'):1630, ('L','O'):1160, ('L','P'):3800,  \\\n",
        "                ('H','A'):1460, ('H','B'):1940, ('H','C'): 970, ('H', 'D'): 100, ('H','O'): 495, ('H','P'):1200,  \\\n",
        "                ('S','A'):1925, ('S','B'):2400, ('S','C'):1425, ('S', 'D'): 500, ('S','O'): 950, ('S','P'): 800,  \\\n",
        "                ('M','A'): 380, ('M','B'):1355, ('M','C'): 543, ('M', 'D'):1045, ('M','O'): 665, ('M','P'):2321,  \\\n",
        "                ('W','A'): 922, ('W','B'):1646, ('W','C'): 700, ('W', 'D'): 508, ('W','O'): 311, ('W','P'):1797\n",
        "                 }       \n",
        "                       # cost of ship one unit from- to\n",
        "\n",
        "constraints = {'supply_constraint', 'demand_constraint'}           # The two sets of constraints\n",
        "\n",
        "model = ConcreteModel(name = \"(Model2)\")                            # Same as previous\n",
        "model.x = Var( flows_from_to_arcs, within= NonNegativeReals )       # Decision variables are the flows from - to\n",
        "model.y = Var( factory_open, within = Binary)\n",
        "model.value = Objective(                                            # Objective\n",
        "expr = sum( cost_from_to[i]*model.x[i] for i in flows_from_to_arcs) + sum(fixed_cost[i]*model.y[i] for i in supply_points), sense = minimize )  \n",
        "# Minimize total transportation cost plus fixed charge if supply is open\n",
        "\n",
        "# This defines a rule called demand must be met. \n",
        "\n",
        "def demand_must_be_met_rule(m,c):\n",
        "    return sum(m.x[i,c] for i in supply_points) == demand [c]    # sums supply to demand point c. Note the syntax == for saying equal to\n",
        "\n",
        "# This defines a rule to make sure do not exceed supply constraints\n",
        "\n",
        "def supply_must__not_be_exceeded_rule(m,c):\n",
        "    return sum(m.x[c,i] for i in demand_points) <= supply [c] * model.y[c]   \n",
        "    # sums from supply point c to demand points. Right hand side equals capacity if plant open else is equal to zero\n",
        "\n",
        "# This defines in our model the constraints! Note that we simply pass the set of constraints and the rule. It does the rest.\n",
        "# model is by default when we call (recall model can be renamed as you like )\n",
        "model.demand_constraint = Constraint(demand_points, rule = demand_must_be_met_rule)   # applies to each demand point\n",
        "\n",
        "model.supply_constraint = Constraint(supply_points, rule = supply_must__not_be_exceeded_rule)  # applies to each supply point\n",
        "\n",
        "opt = SolverFactory('glpk')           # same as before\n",
        "\n",
        "model.dual = Suffix(direction=Suffix.IMPORT_EXPORT)   # same as before\n",
        "results = opt.solve(model, tee= True)                 # same as before"
      ]
    },
    {
      "cell_type": "code",
      "execution_count": null,
      "metadata": {
        "id": "I1YRjt6W4On5"
      },
      "outputs": [],
      "source": [
        "model.pprint()"
      ]
    }
  ],
  "metadata": {
    "kernelspec": {
      "display_name": "Python 3 (ipykernel)",
      "language": "python",
      "name": "python3"
    },
    "language_info": {
      "codemirror_mode": {
        "name": "ipython",
        "version": 3
      },
      "file_extension": ".py",
      "mimetype": "text/x-python",
      "name": "python",
      "nbconvert_exporter": "python",
      "pygments_lexer": "ipython3",
      "version": "3.8.3"
    },
    "colab": {
      "name": "Copy of pyomoDemo.ipynb",
      "provenance": [],
      "include_colab_link": true
    }
  },
  "nbformat": 4,
  "nbformat_minor": 0
}