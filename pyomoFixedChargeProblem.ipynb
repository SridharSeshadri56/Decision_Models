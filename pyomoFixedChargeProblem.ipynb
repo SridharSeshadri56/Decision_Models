{
  "cells": [
    {
      "cell_type": "markdown",
      "metadata": {
        "id": "view-in-github",
        "colab_type": "text"
      },
      "source": [
        "<a href=\"https://colab.research.google.com/github/SridharSeshadri56/Decision_Models/blob/main/pyomoFixedChargeProblem.ipynb\" target=\"_parent\"><img src=\"https://colab.research.google.com/assets/colab-badge.svg\" alt=\"Open In Colab\"/></a>"
      ]
    },
    {
      "cell_type": "code",
      "execution_count": null,
      "metadata": {
        "id": "3m6MN1Ds4OnK"
      },
      "outputs": [],
      "source": [
        "# Sets up Fixed Charge problem from set of supply nodes to demand nodes \n",
        "# Cost of shipping per unit from supply to demand nodes, supply at supply nodes, \n",
        "# demand at demand nodes are given, capacity and fixed cost of capacity at supply nodes "
      ]
    },
    {
      "cell_type": "code",
      "execution_count": null,
      "metadata": {
        "id": "IUCeDFGK4OnR"
      },
      "outputs": [],
      "source": [
        "pip install pyomo  #Installs the modeling language called pyomo"
      ]
    },
    {
      "cell_type": "code",
      "execution_count": null,
      "metadata": {
        "id": "vI8JWO4Y4OnT"
      },
      "outputs": [],
      "source": [
        "# The GLPK (GNU Linear Programming Kit) package is intended for solving large-scale linear programming (LP), \n",
        "# mixed integer programming (MIP), and other related problems. It is a set of routines written in ANSI C and \n",
        "# organized in the form of a callable library.\n",
        "!apt-get install -y -qq glpk-utils  #Installs the optimization engine called glpk.\n"
      ]
    },
    {
      "cell_type": "code",
      "execution_count": 8,
      "metadata": {
        "id": "CvC4osw-4On2",
        "outputId": "eb8ade16-02dc-4007-a0f1-b0c16311d898",
        "colab": {
          "base_uri": "https://localhost:8080/"
        }
      },
      "outputs": [
        {
          "output_type": "stream",
          "name": "stdout",
          "text": [
            "GLPSOL: GLPK LP/MIP Solver, v4.65\n",
            "Parameter(s) specified in the command line:\n",
            " --write /tmp/tmp1_ja5z24.glpk.raw --wglp /tmp/tmpvily33hw.glpk.glp --cpxlp\n",
            " /tmp/tmp9oti5iu5.pyomo.lp\n",
            "Reading problem data from '/tmp/tmp9oti5iu5.pyomo.lp'...\n",
            "/tmp/tmp9oti5iu5.pyomo.lp:181: warning: lower bound of variable 'x31' redefined\n",
            "/tmp/tmp9oti5iu5.pyomo.lp:181: warning: upper bound of variable 'x31' redefined\n",
            "12 rows, 36 columns, 66 non-zeros\n",
            "5 integer variables, all of which are binary\n",
            "186 lines were read\n",
            "Writing problem data to '/tmp/tmpvily33hw.glpk.glp'...\n",
            "195 lines were written\n",
            "GLPK Integer Optimizer, v4.65\n",
            "12 rows, 36 columns, 66 non-zeros\n",
            "5 integer variables, all of which are binary\n",
            "Preprocessing...\n",
            "11 rows, 35 columns, 65 non-zeros\n",
            "5 integer variables, all of which are binary\n",
            "Scaling...\n",
            " A: min|aij| =  1.000e+00  max|aij| =  3.100e+01  ratio =  3.100e+01\n",
            "GM: min|aij| =  1.000e+00  max|aij| =  1.000e+00  ratio =  1.000e+00\n",
            "EQ: min|aij| =  1.000e+00  max|aij| =  1.000e+00  ratio =  1.000e+00\n",
            "2N: min|aij| =  6.875e-01  max|aij| =  1.125e+00  ratio =  1.636e+00\n",
            "Constructing initial basis...\n",
            "Size of triangular part is 11\n",
            "Solving LP relaxation...\n",
            "GLPK Simplex Optimizer, v4.65\n",
            "11 rows, 35 columns, 65 non-zeros\n",
            "      0: obj =   4.680500000e+04 inf =   5.600e+01 (2)\n",
            "      8: obj =   5.640254839e+04 inf =   0.000e+00 (0)\n",
            "*    20: obj =   3.754374671e+04 inf =   0.000e+00 (0)\n",
            "OPTIMAL LP SOLUTION FOUND\n",
            "Integer optimization begins...\n",
            "Long-step dual simplex will be used\n",
            "+    20: mip =     not found yet >=              -inf        (1; 0)\n",
            "+    29: >>>>>   4.781300000e+04 >=   4.360748865e+04   8.8% (6; 0)\n",
            "+    35: >>>>>   4.740100000e+04 >=   4.685486510e+04   1.2% (3; 6)\n",
            "+    37: mip =   4.740100000e+04 >=     tree is empty   0.0% (0; 13)\n",
            "INTEGER OPTIMAL SOLUTION FOUND\n",
            "Time used:   0.0 secs\n",
            "Memory used: 0.1 Mb (90577 bytes)\n",
            "Writing MIP solution to '/tmp/tmp1_ja5z24.glpk.raw'...\n",
            "57 lines were written\n"
          ]
        }
      ],
      "source": [
        "from pyomo.environ import *\n",
        "import itertools                          # package helps create products of sets. here I use to create product of demand and supply sets\n",
        "\n",
        "demand_points = ['A', 'B', 'C', 'D', 'O', 'P']    # This is the set of demand points\n",
        "supply_points = ['L', 'H', 'S', 'M', 'W']                        # This is the set of supply points\n",
        "\n",
        "demand = {'A': 10, 'B': 8, 'C': 14, 'D': 6, 'O':7, 'P':11}          # demand at demand points \n",
        "supply = {'L': 18, 'H': 24, 'S': 27, 'M':22, 'W':31}                # max supply capacity at supply points if open\n",
        "fixed_cost = {'L': 7650, 'H': 3500, 'S': 5000, 'M':4100, 'W':2200}\n",
        "\n",
        "flows_from_to_arcs = list(itertools.product(supply, demand))   # this creates a list with supply and demand point names\n",
        "                                                               # this will become our set of variables\n",
        "                                                               # we could loop over supply and demand and add to a list instead\n",
        "\n",
        "cost_from_to = {('L','A'):1675, ('L','B'): 400, ('L','C'): 685, ('L', 'D'):1630, ('L','O'):1160, ('L','P'):3800,  \\\n",
        "                ('H','A'):1460, ('H','B'):1940, ('H','C'): 970, ('H', 'D'): 100, ('H','O'): 495, ('H','P'):1200,  \\\n",
        "                ('S','A'):1925, ('S','B'):2400, ('S','C'):1425, ('S', 'D'): 500, ('S','O'): 950, ('S','P'): 800,  \\\n",
        "                ('M','A'): 380, ('M','B'):1355, ('M','C'): 543, ('M', 'D'):1045, ('M','O'): 665, ('M','P'):2321,  \\\n",
        "                ('W','A'): 922, ('W','B'):1646, ('W','C'): 700, ('W', 'D'): 508, ('W','O'): 311, ('W','P'):1797\n",
        "                 }       \n",
        "                       # cost of ship one unit from- to\n",
        "\n",
        "constraints = {'supply_constraint', 'demand_constraint'}           # The two sets of constraints\n",
        "\n",
        "model = ConcreteModel(name = \"(Model2)\")                            # Same as previous\n",
        "model.x = Var( flows_from_to_arcs, within= NonNegativeReals )       # Decision variables are the flows from - to\n",
        "model.y = Var( supply_points, within = Binary)\n",
        "model.value = Objective(                                            # Objective\n",
        "expr = sum( cost_from_to[i]*model.x[i] for i in flows_from_to_arcs) + sum(fixed_cost[i]*model.y[i] for i in supply_points), sense = minimize )  \n",
        "# Minimize total transportation cost plus fixed charge if supply is open\n",
        "\n",
        "# This defines a rule called demand must be met. \n",
        "\n",
        "def demand_must_be_met_rule(m,c):\n",
        "    return sum(m.x[i,c] for i in supply_points) == demand [c]    # sums supply to demand point c. Note the syntax == for saying equal to\n",
        "\n",
        "# This defines a rule to make sure do not exceed supply constraints\n",
        "\n",
        "def supply_must__not_be_exceeded_rule(m,c):\n",
        "    return sum(m.x[c,i] for i in demand_points) <= supply [c] * model.y[c]   \n",
        "    # sums from supply point c to demand points. Right hand side equals capacity if plant open else is equal to zero\n",
        "\n",
        "# This defines in our model the constraints! Note that we simply pass the set of constraints and the rule. It does the rest.\n",
        "# model is by default when we call (recall model can be renamed as you like )\n",
        "model.demand_constraint = Constraint(demand_points, rule = demand_must_be_met_rule)   # applies to each demand point\n",
        "\n",
        "model.supply_constraint = Constraint(supply_points, rule = supply_must__not_be_exceeded_rule)  # applies to each supply point\n",
        "\n",
        "opt = SolverFactory('glpk')           # same as before\n",
        "\n",
        "model.dual = Suffix(direction=Suffix.IMPORT_EXPORT)   # same as before\n",
        "results = opt.solve(model, tee= True)                 # same as before"
      ]
    },
    {
      "cell_type": "code",
      "execution_count": null,
      "metadata": {
        "id": "I1YRjt6W4On5"
      },
      "outputs": [],
      "source": [
        "model.pprint()"
      ]
    },
    {
      "cell_type": "markdown",
      "source": [
        "SINGLE SOURCE: EACH DEMAND POINT CAN BE SERVED BY ONLY ONE SOURCE.\n",
        "One can easily modify this formulation to make sure each demand point is served by a single source. The idea is to replace flows with whether demand is served by a supply (binary). Then to multiply the decision by the demand. See modification below "
      ],
      "metadata": {
        "id": "CQ5Ph2pdixBZ"
      }
    },
    {
      "cell_type": "code",
      "source": [
        "demand_points = ['A', 'B', 'C', 'D', 'O', 'P']    # This is the set of demand points\n",
        "supply_points = ['L', 'H', 'S', 'M', 'W']                        # This is the set of supply points\n",
        "\n",
        "demand = {'A': 10, 'B': 8, 'C': 14, 'D': 6, 'O':7, 'P':11}          # demand at demand points \n",
        "supply = {'L': 18, 'H': 24, 'S': 27, 'M':22, 'W':31}                # max supply capacity at supply points if open\n",
        "fixed_cost = {'L': 7650, 'H': 3500, 'S': 5000, 'M':4100, 'W':2200}\n",
        "\n",
        "flows_from_to_arcs = list(itertools.product(supply, demand))   # this creates a list with supply and demand point names\n",
        "                                                               # this will become our set of variables\n",
        "                                                               # we could loop over supply and demand and add to a list instead\n",
        "\n",
        "cost_from_to = {('L','A'):1675, ('L','B'): 400, ('L','C'): 685, ('L', 'D'):1630, ('L','O'):1160, ('L','P'):3800,  \\\n",
        "                ('H','A'):1460, ('H','B'):1940, ('H','C'): 970, ('H', 'D'): 100, ('H','O'): 495, ('H','P'):1200,  \\\n",
        "                ('S','A'):1925, ('S','B'):2400, ('S','C'):1425, ('S', 'D'): 500, ('S','O'): 950, ('S','P'): 800,  \\\n",
        "                ('M','A'): 380, ('M','B'):1355, ('M','C'): 543, ('M', 'D'):1045, ('M','O'): 665, ('M','P'):2321,  \\\n",
        "                ('W','A'): 922, ('W','B'):1646, ('W','C'): 700, ('W', 'D'): 508, ('W','O'): 311, ('W','P'):1797\n",
        "                 }       \n",
        "                       # cost of ship one unit from- to\n",
        "\n",
        "constraints = {'supply_constraint', 'demand_constraint'}           # The two sets of constraints\n",
        "\n",
        "model = ConcreteModel(name = \"(Model2)\")                            # Same as previous\n",
        "model.x = Var( flows_from_to_arcs, within= Binary )                 # Decision variables are whether to serve demand point from supply point\n",
        "model.y = Var( supply_points, within = Binary)\n",
        "model.value = Objective(                                            # Objective\n",
        "expr = sum( cost_from_to[i,j]*model.x[i,j]*demand[j] for (i,j) in flows_from_to_arcs) + sum(fixed_cost[i]*model.y[i] for i in supply_points), sense = minimize )  \n",
        "# Minimize total transportation cost plus fixed charge if supply is open\n",
        "# Note transportation cost = whether supply * cost of supply * demand\n",
        "\n",
        "# This defines a rule called demand must be met. \n",
        "\n",
        "def demand_must_be_met_rule(m,c):\n",
        "    return sum(m.x[i,c] for i in supply_points) == 1    # sums supply to demand point c. Note the syntax == for saying equal to\n",
        "    # This rule says each demand must be served by one supply at most\n",
        "\n",
        "# This defines a rule to make sure do not exceed supply constraints\n",
        "\n",
        "def supply_must__not_be_exceeded_rule(m,c):\n",
        "    return sum(m.x[c,i]*demand[i] for i in demand_points) <= supply [c] * model.y[c]   \n",
        "    # sums from supply point c to demand points. Right hand side equals capacity if plant open else is equal to zero\n",
        "    # Note we multiply by demand because m.x are zero-one variables\n",
        "\n",
        "# This defines in our model the constraints! Note that we simply pass the set of constraints and the rule. It does the rest.\n",
        "# model is by default when we call (recall model can be renamed as you like )\n",
        "model.demand_constraint = Constraint(demand_points, rule = demand_must_be_met_rule)   # applies to each demand point\n",
        "\n",
        "model.supply_constraint = Constraint(supply_points, rule = supply_must__not_be_exceeded_rule)  # applies to each supply point\n",
        "\n",
        "opt = SolverFactory('glpk')           # same as before\n",
        "\n",
        "model.dual = Suffix(direction=Suffix.IMPORT_EXPORT)   # same as before\n",
        "results = opt.solve(model, tee= True)                 # same as before"
      ],
      "metadata": {
        "id": "-usoR6t-jeyl",
        "outputId": "f3509070-233e-4e88-acbf-4f23a83eec0a",
        "colab": {
          "base_uri": "https://localhost:8080/"
        }
      },
      "execution_count": 9,
      "outputs": [
        {
          "output_type": "stream",
          "name": "stdout",
          "text": [
            "GLPSOL: GLPK LP/MIP Solver, v4.65\n",
            "Parameter(s) specified in the command line:\n",
            " --write /tmp/tmpk_8nj2n4.glpk.raw --wglp /tmp/tmpjtfz97lo.glpk.glp --cpxlp\n",
            " /tmp/tmp4ef8rbz4.pyomo.lp\n",
            "Reading problem data from '/tmp/tmp4ef8rbz4.pyomo.lp'...\n",
            "/tmp/tmp4ef8rbz4.pyomo.lp:181: warning: lower bound of variable 'x1' redefined\n",
            "/tmp/tmp4ef8rbz4.pyomo.lp:181: warning: upper bound of variable 'x1' redefined\n",
            "12 rows, 36 columns, 66 non-zeros\n",
            "35 integer variables, all of which are binary\n",
            "216 lines were read\n",
            "Writing problem data to '/tmp/tmpjtfz97lo.glpk.glp'...\n",
            "165 lines were written\n",
            "GLPK Integer Optimizer, v4.65\n",
            "12 rows, 36 columns, 66 non-zeros\n",
            "35 integer variables, all of which are binary\n",
            "Preprocessing...\n",
            "11 rows, 35 columns, 65 non-zeros\n",
            "35 integer variables, all of which are binary\n",
            "Scaling...\n",
            " A: min|aij| =  1.000e+00  max|aij| =  3.100e+01  ratio =  3.100e+01\n",
            "GM: min|aij| =  9.656e-01  max|aij| =  1.036e+00  ratio =  1.072e+00\n",
            "EQ: min|aij| =  9.484e-01  max|aij| =  1.000e+00  ratio =  1.054e+00\n",
            "2N: min|aij| =  4.375e-01  max|aij| =  1.750e+00  ratio =  4.000e+00\n",
            "Constructing initial basis...\n",
            "Size of triangular part is 11\n",
            "Solving LP relaxation...\n",
            "GLPK Simplex Optimizer, v4.65\n",
            "11 rows, 35 columns, 65 non-zeros\n",
            "      0: obj =   4.680500000e+04 inf =   5.500e+00 (2)\n",
            "      7: obj =   7.090759259e+04 inf =   0.000e+00 (0)\n",
            "*    19: obj =   3.754374671e+04 inf =   0.000e+00 (0)\n",
            "OPTIMAL LP SOLUTION FOUND\n",
            "Integer optimization begins...\n",
            "Long-step dual simplex will be used\n",
            "+    19: mip =     not found yet >=              -inf        (1; 0)\n",
            "+    29: >>>>>   4.972700000e+04 >=   4.248400000e+04  14.6% (7; 0)\n",
            "+    37: >>>>>   4.971700000e+04 >=   4.565500000e+04   8.2% (7; 4)\n",
            "+    41: mip =   4.971700000e+04 >=     tree is empty   0.0% (0; 19)\n",
            "INTEGER OPTIMAL SOLUTION FOUND\n",
            "Time used:   0.0 secs\n",
            "Memory used: 0.1 Mb (90553 bytes)\n",
            "Writing MIP solution to '/tmp/tmpk_8nj2n4.glpk.raw'...\n",
            "57 lines were written\n"
          ]
        }
      ]
    },
    {
      "cell_type": "code",
      "source": [
        "model.pprint()"
      ],
      "metadata": {
        "id": "NXoSkcpYla8I",
        "outputId": "b48c15c0-9248-4f02-ed81-7b5bd6fec49a",
        "colab": {
          "base_uri": "https://localhost:8080/"
        }
      },
      "execution_count": 10,
      "outputs": [
        {
          "output_type": "stream",
          "name": "stdout",
          "text": [
            "4 Set Declarations\n",
            "    demand_constraint_index : Size=1, Index=None, Ordered=Insertion\n",
            "        Key  : Dimen : Domain : Size : Members\n",
            "        None :     1 :    Any :    6 : {'A', 'B', 'C', 'D', 'O', 'P'}\n",
            "    supply_constraint_index : Size=1, Index=None, Ordered=Insertion\n",
            "        Key  : Dimen : Domain : Size : Members\n",
            "        None :     1 :    Any :    5 : {'L', 'H', 'S', 'M', 'W'}\n",
            "    x_index : Size=1, Index=None, Ordered=Insertion\n",
            "        Key  : Dimen : Domain : Size : Members\n",
            "        None :     2 :    Any :   30 : {('L', 'A'), ('L', 'B'), ('L', 'C'), ('L', 'D'), ('L', 'O'), ('L', 'P'), ('H', 'A'), ('H', 'B'), ('H', 'C'), ('H', 'D'), ('H', 'O'), ('H', 'P'), ('S', 'A'), ('S', 'B'), ('S', 'C'), ('S', 'D'), ('S', 'O'), ('S', 'P'), ('M', 'A'), ('M', 'B'), ('M', 'C'), ('M', 'D'), ('M', 'O'), ('M', 'P'), ('W', 'A'), ('W', 'B'), ('W', 'C'), ('W', 'D'), ('W', 'O'), ('W', 'P')}\n",
            "    y_index : Size=1, Index=None, Ordered=Insertion\n",
            "        Key  : Dimen : Domain : Size : Members\n",
            "        None :     1 :    Any :    5 : {'L', 'H', 'S', 'M', 'W'}\n",
            "\n",
            "2 Var Declarations\n",
            "    x : Size=30, Index=x_index\n",
            "        Key        : Lower : Value : Upper : Fixed : Stale : Domain\n",
            "        ('H', 'A') :     0 :   0.0 :     1 : False : False : Binary\n",
            "        ('H', 'B') :     0 :   0.0 :     1 : False : False : Binary\n",
            "        ('H', 'C') :     0 :   0.0 :     1 : False : False : Binary\n",
            "        ('H', 'D') :     0 :   0.0 :     1 : False : False : Binary\n",
            "        ('H', 'O') :     0 :   0.0 :     1 : False : False : Binary\n",
            "        ('H', 'P') :     0 :   0.0 :     1 : False : False : Binary\n",
            "        ('L', 'A') :     0 :   0.0 :     1 : False : False : Binary\n",
            "        ('L', 'B') :     0 :   0.0 :     1 : False : False : Binary\n",
            "        ('L', 'C') :     0 :   0.0 :     1 : False : False : Binary\n",
            "        ('L', 'D') :     0 :   0.0 :     1 : False : False : Binary\n",
            "        ('L', 'O') :     0 :   0.0 :     1 : False : False : Binary\n",
            "        ('L', 'P') :     0 :   0.0 :     1 : False : False : Binary\n",
            "        ('M', 'A') :     0 :   1.0 :     1 : False : False : Binary\n",
            "        ('M', 'B') :     0 :   1.0 :     1 : False : False : Binary\n",
            "        ('M', 'C') :     0 :   0.0 :     1 : False : False : Binary\n",
            "        ('M', 'D') :     0 :   0.0 :     1 : False : False : Binary\n",
            "        ('M', 'O') :     0 :   0.0 :     1 : False : False : Binary\n",
            "        ('M', 'P') :     0 :   0.0 :     1 : False : False : Binary\n",
            "        ('S', 'A') :     0 :   0.0 :     1 : False : False : Binary\n",
            "        ('S', 'B') :     0 :   0.0 :     1 : False : False : Binary\n",
            "        ('S', 'C') :     0 :   0.0 :     1 : False : False : Binary\n",
            "        ('S', 'D') :     0 :   1.0 :     1 : False : False : Binary\n",
            "        ('S', 'O') :     0 :   0.0 :     1 : False : False : Binary\n",
            "        ('S', 'P') :     0 :   1.0 :     1 : False : False : Binary\n",
            "        ('W', 'A') :     0 :   0.0 :     1 : False : False : Binary\n",
            "        ('W', 'B') :     0 :   0.0 :     1 : False : False : Binary\n",
            "        ('W', 'C') :     0 :   1.0 :     1 : False : False : Binary\n",
            "        ('W', 'D') :     0 :   0.0 :     1 : False : False : Binary\n",
            "        ('W', 'O') :     0 :   1.0 :     1 : False : False : Binary\n",
            "        ('W', 'P') :     0 :   0.0 :     1 : False : False : Binary\n",
            "    y : Size=5, Index=y_index\n",
            "        Key : Lower : Value : Upper : Fixed : Stale : Domain\n",
            "          H :     0 :   0.0 :     1 : False : False : Binary\n",
            "          L :     0 :   0.0 :     1 : False : False : Binary\n",
            "          M :     0 :   1.0 :     1 : False : False : Binary\n",
            "          S :     0 :   1.0 :     1 : False : False : Binary\n",
            "          W :     0 :   1.0 :     1 : False : False : Binary\n",
            "\n",
            "1 Objective Declarations\n",
            "    value : Size=1, Index=None, Active=True\n",
            "        Key  : Active : Sense    : Expression\n",
            "        None :   True : minimize : 16750*x[L,A] + 3200*x[L,B] + 9590*x[L,C] + 9780*x[L,D] + 8120*x[L,O] + 41800*x[L,P] + 14600*x[H,A] + 15520*x[H,B] + 13580*x[H,C] + 600*x[H,D] + 3465*x[H,O] + 13200*x[H,P] + 19250*x[S,A] + 19200*x[S,B] + 19950*x[S,C] + 3000*x[S,D] + 6650*x[S,O] + 8800*x[S,P] + 3800*x[M,A] + 10840*x[M,B] + 7602*x[M,C] + 6270*x[M,D] + 4655*x[M,O] + 25531*x[M,P] + 9220*x[W,A] + 13168*x[W,B] + 9800*x[W,C] + 3048*x[W,D] + 2177*x[W,O] + 19767*x[W,P] + 7650*y[L] + 3500*y[H] + 5000*y[S] + 4100*y[M] + 2200*y[W]\n",
            "\n",
            "2 Constraint Declarations\n",
            "    demand_constraint : Size=6, Index=demand_constraint_index, Active=True\n",
            "        Key : Lower : Body                                       : Upper : Active\n",
            "          A :   1.0 : x[L,A] + x[H,A] + x[S,A] + x[M,A] + x[W,A] :   1.0 :   True\n",
            "          B :   1.0 : x[L,B] + x[H,B] + x[S,B] + x[M,B] + x[W,B] :   1.0 :   True\n",
            "          C :   1.0 : x[L,C] + x[H,C] + x[S,C] + x[M,C] + x[W,C] :   1.0 :   True\n",
            "          D :   1.0 : x[L,D] + x[H,D] + x[S,D] + x[M,D] + x[W,D] :   1.0 :   True\n",
            "          O :   1.0 : x[L,O] + x[H,O] + x[S,O] + x[M,O] + x[W,O] :   1.0 :   True\n",
            "          P :   1.0 : x[L,P] + x[H,P] + x[S,P] + x[M,P] + x[W,P] :   1.0 :   True\n",
            "    supply_constraint : Size=5, Index=supply_constraint_index, Active=True\n",
            "        Key : Lower : Body                                                                         : Upper : Active\n",
            "          H :  -Inf : 10*x[H,A] + 8*x[H,B] + 14*x[H,C] + 6*x[H,D] + 7*x[H,O] + 11*x[H,P] - 24*y[H] :   0.0 :   True\n",
            "          L :  -Inf : 10*x[L,A] + 8*x[L,B] + 14*x[L,C] + 6*x[L,D] + 7*x[L,O] + 11*x[L,P] - 18*y[L] :   0.0 :   True\n",
            "          M :  -Inf : 10*x[M,A] + 8*x[M,B] + 14*x[M,C] + 6*x[M,D] + 7*x[M,O] + 11*x[M,P] - 22*y[M] :   0.0 :   True\n",
            "          S :  -Inf : 10*x[S,A] + 8*x[S,B] + 14*x[S,C] + 6*x[S,D] + 7*x[S,O] + 11*x[S,P] - 27*y[S] :   0.0 :   True\n",
            "          W :  -Inf : 10*x[W,A] + 8*x[W,B] + 14*x[W,C] + 6*x[W,D] + 7*x[W,O] + 11*x[W,P] - 31*y[W] :   0.0 :   True\n",
            "\n",
            "1 Suffix Declarations\n",
            "    dual : Direction=Suffix.IMPORT_EXPORT, Datatype=Suffix.FLOAT\n",
            "        Key : Value\n",
            "\n",
            "10 Declarations: x_index x y_index y value demand_constraint_index demand_constraint supply_constraint_index supply_constraint dual\n"
          ]
        }
      ]
    }
  ],
  "metadata": {
    "kernelspec": {
      "display_name": "Python 3 (ipykernel)",
      "language": "python",
      "name": "python3"
    },
    "language_info": {
      "codemirror_mode": {
        "name": "ipython",
        "version": 3
      },
      "file_extension": ".py",
      "mimetype": "text/x-python",
      "name": "python",
      "nbconvert_exporter": "python",
      "pygments_lexer": "ipython3",
      "version": "3.8.3"
    },
    "colab": {
      "name": "Copy of pyomoDemo.ipynb",
      "provenance": [],
      "include_colab_link": true
    }
  },
  "nbformat": 4,
  "nbformat_minor": 0
}