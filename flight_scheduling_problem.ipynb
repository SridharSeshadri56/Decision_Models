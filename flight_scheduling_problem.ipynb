{
  "cells": [
    {
      "cell_type": "markdown",
      "metadata": {
        "id": "view-in-github",
        "colab_type": "text"
      },
      "source": [
        "<a href=\"https://colab.research.google.com/github/SridharSeshadri56/Decision_Models/blob/main/flight_scheduling_problem.ipynb\" target=\"_parent\"><img src=\"https://colab.research.google.com/assets/colab-badge.svg\" alt=\"Open In Colab\"/></a>"
      ]
    },
    {
      "cell_type": "code",
      "execution_count": null,
      "metadata": {
        "id": "3m6MN1Ds4OnK"
      },
      "outputs": [],
      "source": [
        "# Sets up flight scheduling problem from set of feasible flight sequence to flights\n",
        "# Cost of each flight sequence and mapping of sequence to flights are given.\n",
        "# Maximum number of available crew is given"
      ]
    },
    {
      "cell_type": "code",
      "execution_count": null,
      "metadata": {
        "id": "IUCeDFGK4OnR"
      },
      "outputs": [],
      "source": [
        "pip install pyomo  #Installs the modeling language called pyomo"
      ]
    },
    {
      "cell_type": "code",
      "execution_count": null,
      "metadata": {
        "id": "vI8JWO4Y4OnT"
      },
      "outputs": [],
      "source": [
        "# The GLPK (GNU Linear Programming Kit) package is intended for solving large-scale linear programming (LP), \n",
        "# mixed integer programming (MIP), and other related problems. It is a set of routines written in ANSI C and \n",
        "# organized in the form of a callable library.\n",
        "!apt-get install -y -qq glpk-utils  #Installs the optimization engine called glpk.\n"
      ]
    },
    {
      "cell_type": "code",
      "source": [
        "from pyomo.environ import *"
      ],
      "metadata": {
        "id": "v0L1WXYANi0j"
      },
      "execution_count": null,
      "outputs": []
    },
    {
      "cell_type": "code",
      "execution_count": 5,
      "metadata": {
        "id": "CvC4osw-4On2",
        "colab": {
          "base_uri": "https://localhost:8080/"
        },
        "outputId": "e63c36c7-8e8f-4916-9b49-aba212d7d305"
      },
      "outputs": [
        {
          "output_type": "stream",
          "name": "stdout",
          "text": [
            "[('SFO-LAX', 1), ('SFO-LAX', 2), ('SFO-LAX', 3), ('SFO-LAX', 4), ('SFO-LAX', 5), ('SFO-LAX', 6), ('SFO-LAX', 7), ('SFO-LAX', 8), ('SFO-LAX', 9), ('SFO-LAX', 10), ('SFO-LAX', 11), ('SFO-LAX', 12), ('SFO-DEN', 1), ('SFO-DEN', 2), ('SFO-DEN', 3), ('SFO-DEN', 4), ('SFO-DEN', 5), ('SFO-DEN', 6), ('SFO-DEN', 7), ('SFO-DEN', 8), ('SFO-DEN', 9), ('SFO-DEN', 10), ('SFO-DEN', 11), ('SFO-DEN', 12), ('SFO-SEA', 1), ('SFO-SEA', 2), ('SFO-SEA', 3), ('SFO-SEA', 4), ('SFO-SEA', 5), ('SFO-SEA', 6), ('SFO-SEA', 7), ('SFO-SEA', 8), ('SFO-SEA', 9), ('SFO-SEA', 10), ('SFO-SEA', 11), ('SFO-SEA', 12), ('LAX-ORD', 1), ('LAX-ORD', 2), ('LAX-ORD', 3), ('LAX-ORD', 4), ('LAX-ORD', 5), ('LAX-ORD', 6), ('LAX-ORD', 7), ('LAX-ORD', 8), ('LAX-ORD', 9), ('LAX-ORD', 10), ('LAX-ORD', 11), ('LAX-ORD', 12), ('LAX-SFO', 1), ('LAX-SFO', 2), ('LAX-SFO', 3), ('LAX-SFO', 4), ('LAX-SFO', 5), ('LAX-SFO', 6), ('LAX-SFO', 7), ('LAX-SFO', 8), ('LAX-SFO', 9), ('LAX-SFO', 10), ('LAX-SFO', 11), ('LAX-SFO', 12), ('ORD-DEN', 1), ('ORD-DEN', 2), ('ORD-DEN', 3), ('ORD-DEN', 4), ('ORD-DEN', 5), ('ORD-DEN', 6), ('ORD-DEN', 7), ('ORD-DEN', 8), ('ORD-DEN', 9), ('ORD-DEN', 10), ('ORD-DEN', 11), ('ORD-DEN', 12), ('ORD-SEA', 1), ('ORD-SEA', 2), ('ORD-SEA', 3), ('ORD-SEA', 4), ('ORD-SEA', 5), ('ORD-SEA', 6), ('ORD-SEA', 7), ('ORD-SEA', 8), ('ORD-SEA', 9), ('ORD-SEA', 10), ('ORD-SEA', 11), ('ORD-SEA', 12), ('DEN-SFO', 1), ('DEN-SFO', 2), ('DEN-SFO', 3), ('DEN-SFO', 4), ('DEN-SFO', 5), ('DEN-SFO', 6), ('DEN-SFO', 7), ('DEN-SFO', 8), ('DEN-SFO', 9), ('DEN-SFO', 10), ('DEN-SFO', 11), ('DEN-SFO', 12), ('DEN-ORD', 1), ('DEN-ORD', 2), ('DEN-ORD', 3), ('DEN-ORD', 4), ('DEN-ORD', 5), ('DEN-ORD', 6), ('DEN-ORD', 7), ('DEN-ORD', 8), ('DEN-ORD', 9), ('DEN-ORD', 10), ('DEN-ORD', 11), ('DEN-ORD', 12), ('SEA-SFO', 1), ('SEA-SFO', 2), ('SEA-SFO', 3), ('SEA-SFO', 4), ('SEA-SFO', 5), ('SEA-SFO', 6), ('SEA-SFO', 7), ('SEA-SFO', 8), ('SEA-SFO', 9), ('SEA-SFO', 10), ('SEA-SFO', 11), ('SEA-SFO', 12), ('SEA-LAX', 1), ('SEA-LAX', 2), ('SEA-LAX', 3), ('SEA-LAX', 4), ('SEA-LAX', 5), ('SEA-LAX', 6), ('SEA-LAX', 7), ('SEA-LAX', 8), ('SEA-LAX', 9), ('SEA-LAX', 10), ('SEA-LAX', 11), ('SEA-LAX', 12)]\n"
          ]
        }
      ],
      "source": [
        "\n",
        "import itertools                          # package helps create products of sets. here I use to create product of demand and supply sets\n",
        "\n",
        "flights = ['SFO-LAX','SFO-DEN', 'SFO-SEA', 'LAX-ORD', 'LAX-SFO', 'ORD-DEN', \\\n",
        "           'ORD-SEA', 'DEN-SFO', 'DEN-ORD', 'SEA-SFO', 'SEA-LAX' ]    # This is the set of flights\n",
        "feasible_sequence = list(range(1,13) )                                # This is the sequences (range 1 to 12 converted to a list)\n",
        "\n",
        "cost_sequence = [2, 3, 4, 6, 7, 5, 7, 8, 9, 9, 8, 9]                  # cost of flight sequence\n",
        "\n",
        " # this creates a list with flights and sequence\n",
        "\n",
        "is_flight_in_sequence = [('SFO-LAX', 1):1, ('SFO-LAX', 2), ('SFO-LAX', 3), ('SFO-LAX', 4), \\\n",
        "                         ('SFO-LAX', 5), ('SFO-LAX', 6), ('SFO-LAX', 7), ('SFO-LAX', 8), \\\n",
        "                         ('SFO-LAX', 9), ('SFO-LAX', 10), ('SFO-LAX', 11), ('SFO-LAX', 12), \\\n",
        "                         ('SFO-DEN', 1), ('SFO-DEN', 2), ('SFO-DEN', 3), ('SFO-DEN', 4), \\\n",
        "                         ('SFO-DEN', 5), ('SFO-DEN', 6), ('SFO-DEN', 7), ('SFO-DEN', 8), \\\n",
        "                         ('SFO-DEN', 9), ('SFO-DEN', 10), ('SFO-DEN', 11), ('SFO-DEN', 12), \\\n",
        "                         ('SFO-SEA', 1), ('SFO-SEA', 2), ('SFO-SEA', 3), ('SFO-SEA', 4),\\\n",
        "                         ('SFO-SEA', 5), ('SFO-SEA', 6), ('SFO-SEA', 7), ('SFO-SEA', 8),\\\n",
        "                         ('SFO-SEA', 9), ('SFO-SEA', 10), ('SFO-SEA', 11), ('SFO-SEA', 12), \\\n",
        "                         ('LAX-ORD', 1), ('LAX-ORD', 2), ('LAX-ORD', 3), ('LAX-ORD', 4), \\\n",
        "                         ('LAX-ORD', 5), ('LAX-ORD', 6), ('LAX-ORD', 7), ('LAX-ORD', 8), \\\n",
        "                         ('LAX-ORD', 9), ('LAX-ORD', 10), ('LAX-ORD', 11), ('LAX-ORD', 12), \\\n",
        "                         ('LAX-SFO', 1), ('LAX-SFO', 2), ('LAX-SFO', 3), ('LAX-SFO', 4), \\\n",
        "                         ('LAX-SFO', 5), ('LAX-SFO', 6), ('LAX-SFO', 7), ('LAX-SFO', 8), \\\n",
        "                         ('LAX-SFO', 9), ('LAX-SFO', 10), ('LAX-SFO', 11), ('LAX-SFO', 12), \\\n",
        "                         ('ORD-DEN', 1), ('ORD-DEN', 2), ('ORD-DEN', 3), ('ORD-DEN', 4), \\\n",
        "                         ('ORD-DEN', 5), ('ORD-DEN', 6), ('ORD-DEN', 7), ('ORD-DEN', 8),\\\n",
        "                         ('ORD-DEN', 9), ('ORD-DEN', 10), ('ORD-DEN', 11), ('ORD-DEN', 12),\\\n",
        "                         ('ORD-SEA', 1), ('ORD-SEA', 2), ('ORD-SEA', 3), ('ORD-SEA', 4), \\\n",
        "                         ('ORD-SEA', 5), ('ORD-SEA', 6), ('ORD-SEA', 7), ('ORD-SEA', 8), \\\n",
        "                         ('ORD-SEA', 9), ('ORD-SEA', 10), ('ORD-SEA', 11), ('ORD-SEA', 12), \\\n",
        "                         ('DEN-SFO', 1), ('DEN-SFO', 2), ('DEN-SFO', 3), ('DEN-SFO', 4), \\\n",
        "                         ('DEN-SFO', 5), ('DEN-SFO', 6), ('DEN-SFO', 7), ('DEN-SFO', 8), \\\n",
        "                         ('DEN-SFO', 9), ('DEN-SFO', 10), ('DEN-SFO', 11), ('DEN-SFO', 12),\\\n",
        "                         ('DEN-ORD', 1), ('DEN-ORD', 2), ('DEN-ORD', 3), ('DEN-ORD', 4),\\\n",
        "                         ('DEN-ORD', 5), ('DEN-ORD', 6), ('DEN-ORD', 7), ('DEN-ORD', 8), \\\n",
        "                         ('DEN-ORD', 9), ('DEN-ORD', 10), ('DEN-ORD', 11), ('DEN-ORD', 12),\\\n",
        "                         ('SEA-SFO', 1), ('SEA-SFO', 2), ('SEA-SFO', 3), ('SEA-SFO', 4), \\\n",
        "                         ('SEA-SFO', 5), ('SEA-SFO', 6), ('SEA-SFO', 7), ('SEA-SFO', 8), \\\n",
        "                         ('SEA-SFO', 9), ('SEA-SFO', 10), ('SEA-SFO', 11), ('SEA-SFO', 12), \\\n",
        "                         ('SEA-LAX', 1), ('SEA-LAX', 2), ('SEA-LAX', 3), ('SEA-LAX', 4), \\\n",
        "                         ('SEA-LAX', 5), ('SEA-LAX', 6), ('SEA-LAX', 7), ('SEA-LAX', 8), \\\n",
        "                         ('SEA-LAX', 9), ('SEA-LAX', 10), ('SEA-LAX', 11), ('SEA-LAX', 12)] \n",
        "\n",
        "print(is_flight_in_sequence)                                                              \n",
        "\n"
      ]
    },
    {
      "cell_type": "code",
      "source": [
        "cost_from_to = {('Hoboken','Ratkeller'):4.64, ('Hoboken','McGoldricks'):5.13, ('Hoboken','Night Train'): 6.54, ('Hoboken', 'Stern'):8.67, \\\n",
        "                ('Bronx','Ratkeller'):3.52, ('Bronx','McGoldricks'):4.16, ('Bronx','Night Train'): 6.90, ('Bronx', 'Stern'): 7.91, \\\n",
        "                ('Brooklyn','Ratkeller'):9.95, ('Brooklyn','McGoldricks'):6.82, ('Brooklyn','Night Train'): 3.88, ('Brooklyn', 'Stern'): 6.85 }       \n",
        "                       # cost of ship one unit from- to\n",
        "\n",
        "constraints = {'supply_constraint', 'demand_constraint'}           # The two sets of constraints\n",
        "\n",
        "model = ConcreteModel(name = \"(Model2)\")                            # Same as previous\n",
        "model.x = Var( flows_from_to_arcs, within= NonNegativeReals )       # Decision variables are the flows from - to\n",
        "model.value = Objective(                                            # Objective\n",
        "expr = sum( cost_from_to[i]*model.x[i] for i in flows_from_to_arcs), sense = minimize )  # Minimize total transportation cost\n",
        "\n",
        "# This defines a rule called demand must be met. \n",
        "\n",
        "def demand_must_be_met_rule(m,c):\n",
        "    return sum(m.x[i,c] for i in supply_points) == demand [c]    # sums supply to demand point c. Note the syntax == for saying equal to\n",
        "\n",
        "# This defines a rule to make sure do not exceed supply constraints\n",
        "\n",
        "def supply_must__not_be_exceeded_rule(m,c):\n",
        "    return sum(m.x[c,i] for i in demand_points) <= supply [c]    # sums from supply point c to demand points.\n",
        "\n",
        "# This defines in our model the constraints! Note that we simply pass the set of constraints and the rule. It does the rest.\n",
        "# model is by default when we call (recall model can be renamed as you like )\n",
        "model.demand_constraint = Constraint(demand_points, rule = demand_must_be_met_rule)   # applies to each demand point\n",
        "\n",
        "model.supply_constraint = Constraint(supply_points, rule = supply_must__not_be_exceeded_rule)  # applies to each supply point\n",
        "\n",
        "opt = SolverFactory('glpk')           # same as before\n",
        "\n",
        "model.dual = Suffix(direction=Suffix.IMPORT_EXPORT)   # same as before\n",
        "results = opt.solve(model, tee= True)                 # same as before"
      ],
      "metadata": {
        "id": "DkT5d48DNsVE"
      },
      "execution_count": null,
      "outputs": []
    },
    {
      "cell_type": "code",
      "execution_count": null,
      "metadata": {
        "id": "I1YRjt6W4On5"
      },
      "outputs": [],
      "source": [
        "model.pprint()"
      ]
    }
  ],
  "metadata": {
    "kernelspec": {
      "display_name": "Python 3 (ipykernel)",
      "language": "python",
      "name": "python3"
    },
    "language_info": {
      "codemirror_mode": {
        "name": "ipython",
        "version": 3
      },
      "file_extension": ".py",
      "mimetype": "text/x-python",
      "name": "python",
      "nbconvert_exporter": "python",
      "pygments_lexer": "ipython3",
      "version": "3.8.3"
    },
    "colab": {
      "name": "Copy of pyomoDemo.ipynb",
      "provenance": [],
      "include_colab_link": true
    }
  },
  "nbformat": 4,
  "nbformat_minor": 0
}