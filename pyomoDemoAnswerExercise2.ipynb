{
  "cells": [
    {
      "cell_type": "markdown",
      "metadata": {
        "id": "view-in-github",
        "colab_type": "text"
      },
      "source": [
        "<a href=\"https://colab.research.google.com/github/SridharSeshadri56/Decision_Models/blob/main/pyomoDemoAnswerExercise2.ipynb\" target=\"_parent\"><img src=\"https://colab.research.google.com/assets/colab-badge.svg\" alt=\"Open In Colab\"/></a>"
      ]
    },
    {
      "cell_type": "code",
      "execution_count": null,
      "metadata": {
        "id": "3m6MN1Ds4OnK"
      },
      "outputs": [],
      "source": [
        "# import * works when algebraic formulation using sets. Else use the import as pyo"
      ]
    },
    {
      "cell_type": "code",
      "execution_count": 1,
      "metadata": {
        "id": "IUCeDFGK4OnR",
        "outputId": "99e7263c-5d40-4896-afe9-137023ceaddc",
        "colab": {
          "base_uri": "https://localhost:8080/"
        }
      },
      "outputs": [
        {
          "output_type": "stream",
          "name": "stdout",
          "text": [
            "Collecting pyomo\n",
            "  Downloading Pyomo-6.3.0-cp37-cp37m-manylinux_2_12_x86_64.manylinux2010_x86_64.whl (9.6 MB)\n",
            "\u001b[K     |████████████████████████████████| 9.6 MB 6.5 MB/s \n",
            "\u001b[?25hCollecting ply\n",
            "  Downloading ply-3.11-py2.py3-none-any.whl (49 kB)\n",
            "\u001b[K     |████████████████████████████████| 49 kB 2.1 MB/s \n",
            "\u001b[?25hInstalling collected packages: ply, pyomo\n",
            "Successfully installed ply-3.11 pyomo-6.3.0\n"
          ]
        }
      ],
      "source": [
        "pip install pyomo  #Installs the modeling language called pyomo"
      ]
    },
    {
      "cell_type": "code",
      "execution_count": 2,
      "metadata": {
        "id": "vI8JWO4Y4OnT",
        "outputId": "0d6b60fd-6c70-421f-8f54-1f88ca04500c",
        "colab": {
          "base_uri": "https://localhost:8080/"
        }
      },
      "outputs": [
        {
          "output_type": "stream",
          "name": "stdout",
          "text": [
            "Selecting previously unselected package libsuitesparseconfig5:amd64.\n",
            "(Reading database ... 155320 files and directories currently installed.)\n",
            "Preparing to unpack .../libsuitesparseconfig5_1%3a5.1.2-2_amd64.deb ...\n",
            "Unpacking libsuitesparseconfig5:amd64 (1:5.1.2-2) ...\n",
            "Selecting previously unselected package libamd2:amd64.\n",
            "Preparing to unpack .../libamd2_1%3a5.1.2-2_amd64.deb ...\n",
            "Unpacking libamd2:amd64 (1:5.1.2-2) ...\n",
            "Selecting previously unselected package libcolamd2:amd64.\n",
            "Preparing to unpack .../libcolamd2_1%3a5.1.2-2_amd64.deb ...\n",
            "Unpacking libcolamd2:amd64 (1:5.1.2-2) ...\n",
            "Selecting previously unselected package libglpk40:amd64.\n",
            "Preparing to unpack .../libglpk40_4.65-1_amd64.deb ...\n",
            "Unpacking libglpk40:amd64 (4.65-1) ...\n",
            "Selecting previously unselected package glpk-utils.\n",
            "Preparing to unpack .../glpk-utils_4.65-1_amd64.deb ...\n",
            "Unpacking glpk-utils (4.65-1) ...\n",
            "Setting up libsuitesparseconfig5:amd64 (1:5.1.2-2) ...\n",
            "Setting up libcolamd2:amd64 (1:5.1.2-2) ...\n",
            "Setting up libamd2:amd64 (1:5.1.2-2) ...\n",
            "Setting up libglpk40:amd64 (4.65-1) ...\n",
            "Setting up glpk-utils (4.65-1) ...\n",
            "Processing triggers for libc-bin (2.27-3ubuntu1.3) ...\n",
            "/sbin/ldconfig.real: /usr/local/lib/python3.7/dist-packages/ideep4py/lib/libmkldnn.so.0 is not a symbolic link\n",
            "\n",
            "Processing triggers for man-db (2.8.3-2ubuntu0.1) ...\n"
          ]
        }
      ],
      "source": [
        "# The GLPK (GNU Linear Programming Kit) package is intended for solving large-scale linear programming (LP), \n",
        "# mixed integer programming (MIP), and other related problems. It is a set of routines written in ANSI C and \n",
        "# organized in the form of a callable library.\n",
        "!apt-get install -y -qq glpk-utils  #Installs the optimization engine called glpk.\n"
      ]
    },
    {
      "cell_type": "code",
      "execution_count": null,
      "metadata": {
        "id": "OHCxC--e4Onr"
      },
      "outputs": [],
      "source": [
        "from pyomo.environ import *              # Some what sloppy but makes writing faster\n",
        "A = ['Astros', 'Cosmos']                 # A is the set of names of decision variables\n",
        "profit = {'Astros':20, 'Cosmos':30}      # profit is the profit from each product\n",
        "w1 = {'Astros':1, 'Cosmos':2}            # These are the hours needed in picture tube\n",
        "w2 = {'Astros':1, 'Cosmos':1}            # These are the hours need in chassis assmebly\n",
        "Picture_Tube_Max = 120                   # Hours available in picture tube\n",
        "Chassis_Assembly_Max = 95                # Hours available in chassis assembly\n",
        "\n",
        "model = ConcreteModel(name = \"(Model1)\")      # This is called a ConcreteModel becaue data is given along with model (else use abstract model)\n",
        "                                              # You can call this instead of model, like Mod, Md, problem, etc\n",
        "model.x = Var( A, within= NonNegativeReals )  # This defines the variables - how much to produce. You can calusel any name, here \"x\"\n",
        "                                              # Declares the \"x\" to  be NonNegativeReals, that is, >= 0 and continuous (real) [like solver]\n",
        "\n",
        "# This defines the objective. Has expression for the objective, \"expr\". And \"sense\" states whether maximize or minimize (default).\n",
        "# Uses the keyword \"Objective\" (like the solver)\n",
        "model.value = Objective(                      \n",
        "expr = sum( profit[i]*model.x[i] for i in A), sense = maximize )  # Note indexes over names of decision variables.\n",
        "\n",
        "# Defines the picture tube production hours constraint. Note uses the keyword \"Constraint\" (like solver)\n",
        "model.picture_tube = Constraint(                \n",
        "expr = sum( w1[i]*model.x[i] for i in A) <=  Picture_Tube_Max)    \n",
        "\n",
        " # Defines the chassis_assembly production hours constraint. Need to write each constraint.\n",
        "model.chassis_assembly = Constraint(           \n",
        "expr = sum( w2[i]*model.x[i] for i in A) <= Chassis_Assembly_Max )\n",
        "\n",
        "opt = SolverFactory('glpk')                     # Choose the optimization engine (like in excel we choose Simplex, GRG etc)\n",
        "\n",
        "model.dual = Suffix(direction=Suffix.IMPORT_EXPORT)  # This states report the shadow prices (called dual)\n",
        "\n",
        "results = opt.solve(model, tee= True)           # Calls the optimizer. Tee = True says provide output. Else silent. We can print later"
      ]
    },
    {
      "cell_type": "code",
      "execution_count": null,
      "metadata": {
        "id": "O7kNrpjp4Ons"
      },
      "outputs": [],
      "source": [
        "model.x.pprint()   # Prints the decision variables"
      ]
    },
    {
      "cell_type": "code",
      "execution_count": null,
      "metadata": {
        "id": "nD3FGwnJ4Ont"
      },
      "outputs": [],
      "source": [
        "model.pprint()   # prints the entire output (note gives shadow prices at very end). Does not give allowed ranges :)"
      ]
    },
    {
      "cell_type": "markdown",
      "source": [
        "Exercise 1: Add the two missing constraints, Astros <= 70; Cosmos <= 50."
      ],
      "metadata": {
        "id": "MR1DvjVrsVnj"
      }
    },
    {
      "cell_type": "markdown",
      "source": [
        "# Answer: We need to add weights for two constraints:\n",
        "w3 = {'Astros':1, 'Cosmos':0}  # This is for Astros circuit boards\n",
        "\n",
        "w4 = {'Astros':0, 'Cosmos':1}  # This is for Cosmos circuit boards\n",
        "\n",
        "# Two new variables: \n",
        "Astros_circuit_board_max = 70  # Available Astros circuit boards\n",
        "\n",
        "Cosmos_circuit_board_max = 50  # Available Cosmos circuit boars\n",
        "\n",
        "# Then two new constraints:\n",
        "# Defines the circuit board constraint for Astros\n",
        "model.Astros_circuit_boards = Constraint(                \n",
        "expr = sum( w3[i]*model.x[i] for i in A) <=  Astros_circuit_board_max)    \n",
        "\n",
        " # Defines the Cosmos circuit board constraint.\n",
        "model.Cosmos_circuit_boards = Constraint(           \n",
        "expr = sum( w4[i]*model.x[i] for i in A) <= Cosmos_circuit_board_max )\n",
        "\n",
        "# Thats it! Try it."
      ],
      "metadata": {
        "id": "WRzPnBufqyMO"
      }
    },
    {
      "cell_type": "markdown",
      "source": [
        "We will next make the declaration of constraints easier by defining \"rule\""
      ],
      "metadata": {
        "id": "yKweD7HLZ0z2"
      }
    },
    {
      "cell_type": "code",
      "execution_count": 4,
      "metadata": {
        "id": "CvC4osw-4On2",
        "outputId": "f7a18a48-a416-433c-a5ae-ac12958e26a8",
        "colab": {
          "base_uri": "https://localhost:8080/"
        }
      },
      "outputs": [
        {
          "output_type": "stream",
          "name": "stdout",
          "text": [
            "GLPSOL: GLPK LP/MIP Solver, v4.65\n",
            "Parameter(s) specified in the command line:\n",
            " --write /tmp/tmpih1eoc2r.glpk.raw --wglp /tmp/tmpqr2w1aqf.glpk.glp --cpxlp\n",
            " /tmp/tmpebpbc24n.pyomo.lp\n",
            "Reading problem data from '/tmp/tmpebpbc24n.pyomo.lp'...\n",
            "3 rows, 3 columns, 5 non-zeros\n",
            "26 lines were read\n",
            "Writing problem data to '/tmp/tmpqr2w1aqf.glpk.glp'...\n",
            "19 lines were written\n",
            "GLPK Simplex Optimizer, v4.65\n",
            "3 rows, 3 columns, 5 non-zeros\n",
            "Preprocessing...\n",
            "2 rows, 2 columns, 4 non-zeros\n",
            "Scaling...\n",
            " A: min|aij| =  1.000e+00  max|aij| =  2.000e+00  ratio =  2.000e+00\n",
            "Problem data seem to be well scaled\n",
            "Constructing initial basis...\n",
            "Size of triangular part is 2\n",
            "*     0: obj =  -0.000000000e+00 inf =   0.000e+00 (2)\n",
            "*     2: obj =   2.160000000e+03 inf =   0.000e+00 (0)\n",
            "OPTIMAL LP SOLUTION FOUND\n",
            "Time used:   0.0 secs\n",
            "Memory used: 0.0 Mb (40412 bytes)\n",
            "Writing basic solution to '/tmp/tmpih1eoc2r.glpk.raw'...\n",
            "15 lines were written\n"
          ]
        }
      ],
      "source": [
        "\n",
        "A = ['Astros', 'Cosmos']                   # A is the set of names of decision variables\n",
        "profit = {'Astros':20, 'Cosmos':30}        # profit from each product\n",
        "\n",
        "constraints = {'Picture_Tube', 'Chassis_Assembly'}  # The set of constraints (this is new to this method)\n",
        "\n",
        " # We are defining by constraint the coefficient of each variable\n",
        "coefficients = { ('Picture_Tube','Astros'):1, \\\n",
        "             ('Picture_Tube', 'Cosmos'):2, \\\n",
        "             ('Chassis_Assembly','Astros'):1, \\\n",
        "             ('Chassis_Assembly','Cosmos'):1}\n",
        "\n",
        "capacity = {'Picture_Tube': 120, 'Chassis_Assembly': 96}   # This again is new because we define the right hand side by constraint\n",
        "\n",
        "model = ConcreteModel(name = \"(Model2)\")           # Same as previous\n",
        "model.x = Var( A, within= NonNegativeReals )       # Decision variables as previous\n",
        "model.value = Objective(                           # Objective, same as previous\n",
        "expr = sum( profit[i]*model.x[i] for i in A), sense = maximize )\n",
        "\n",
        "# This defines a rule called one per constraint. Basically how to compute the left hand side of each constraint.\n",
        "# m stands for model (will get substituted when we call the rule. c stands for the name of the constraint, again substituted when called)\n",
        "def one_per_constraint_rule(m,c):\n",
        "    return sum(m.x[a]*coefficients[c,a] for a in A) <= capacity [c]    # sums hours required for constraint c and sets <= capacity for c.\n",
        "\n",
        "# This defines in our model the constraints! Note that we simply pass the set of constraints and the rule. It does the rest.\n",
        "# model is by default when we call (recall model can be renamed as you like )\n",
        "model.one_per_constraint = Constraint(constraints, rule = one_per_constraint_rule)\n",
        "\n",
        "opt = SolverFactory('glpk')           # same as before\n",
        "\n",
        "model.dual = Suffix(direction=Suffix.IMPORT_EXPORT)   # same as before\n",
        "results = opt.solve(model, tee= True)                 # same as before"
      ]
    },
    {
      "cell_type": "code",
      "execution_count": 5,
      "metadata": {
        "id": "I1YRjt6W4On5",
        "outputId": "16cc3f6f-f5f2-4f49-be64-0318fc67e277",
        "colab": {
          "base_uri": "https://localhost:8080/"
        }
      },
      "outputs": [
        {
          "output_type": "stream",
          "name": "stdout",
          "text": [
            "2 Set Declarations\n",
            "    one_per_constraint_index : Size=1, Index=None, Ordered=False\n",
            "        Key  : Dimen : Domain : Size : Members\n",
            "        None :     1 :    Any :    2 : {'Chassis_Assembly', 'Picture_Tube'}\n",
            "    x_index : Size=1, Index=None, Ordered=Insertion\n",
            "        Key  : Dimen : Domain : Size : Members\n",
            "        None :     1 :    Any :    2 : {'Astros', 'Cosmos'}\n",
            "\n",
            "1 Var Declarations\n",
            "    x : Size=2, Index=x_index\n",
            "        Key    : Lower : Value : Upper : Fixed : Stale : Domain\n",
            "        Astros :     0 :  72.0 :  None : False : False : NonNegativeReals\n",
            "        Cosmos :     0 :  24.0 :  None : False : False : NonNegativeReals\n",
            "\n",
            "1 Objective Declarations\n",
            "    value : Size=1, Index=None, Active=True\n",
            "        Key  : Active : Sense    : Expression\n",
            "        None :   True : maximize : 20*x[Astros] + 30*x[Cosmos]\n",
            "\n",
            "1 Constraint Declarations\n",
            "    one_per_constraint : Size=2, Index=one_per_constraint_index, Active=True\n",
            "        Key              : Lower : Body                    : Upper : Active\n",
            "        Chassis_Assembly :  -Inf :   x[Astros] + x[Cosmos] :  96.0 :   True\n",
            "            Picture_Tube :  -Inf : x[Astros] + 2*x[Cosmos] : 120.0 :   True\n",
            "\n",
            "1 Suffix Declarations\n",
            "    dual : Direction=Suffix.IMPORT_EXPORT, Datatype=Suffix.FLOAT\n",
            "        Key                                  : Value\n",
            "        one_per_constraint[Chassis_Assembly] :  10.0\n",
            "            one_per_constraint[Picture_Tube] :  10.0\n",
            "\n",
            "6 Declarations: x_index x value one_per_constraint_index one_per_constraint dual\n"
          ]
        }
      ],
      "source": [
        "model.pprint()"
      ]
    },
    {
      "cell_type": "markdown",
      "source": [
        "Exercise 2: Add the two constraints. Astros <= 70; Cosmos <= 50.\n",
        "\n",
        "#Answer\n",
        "\n",
        "Add the names of new constraints to the set of constraints:\n",
        "\n",
        " constraints = {'Picture_Tube', 'Chassis_Assembly', 'Astros_ciruit_boards', 'Cosmos_circuit_boards' }  \n",
        "\n",
        "Add the coefficents of the decision variables in the set of coefficients:\n",
        "\n",
        "coefficients = { ('Picture_Tube','Astros'):1, \\\n",
        "             ('Picture_Tube', 'Cosmos'):2, \\\n",
        "             ('Chassis_Assembly','Astros'):1, \\\n",
        "             ('Chassis_Assembly','Cosmos'):1, \\\n",
        "             ('Astros_ciruit_boards', 'Astros'): 1, \\\n",
        "             ('Astros_ciruit_boards', 'Cosmos'): 0, \\\n",
        "             ('Cosmos_circuit_boards', 'Astros'):0, \\\n",
        "             ('Cosmos_circuit_boards', 'Cosmos'):1 }\n",
        "\n",
        "Add the capacity for the two new constraints in the set of capacity:\n",
        "\n",
        "capacity = {'Picture_Tube': 120, 'Chassis_Assembly': 96, \\\n",
        "'Astros_ciruit_boards': 70, 'Cosmos_circuit_boards':50}\n",
        "\n",
        "Solve and see!"
      ],
      "metadata": {
        "id": "V-AooFQKaGgM"
      }
    },
    {
      "cell_type": "markdown",
      "source": [
        "We will discuss the Knapsack model later."
      ],
      "metadata": {
        "id": "h9pkDTPB7paI"
      }
    },
    {
      "cell_type": "code",
      "execution_count": null,
      "metadata": {
        "id": "umScb1fY4On6"
      },
      "outputs": [],
      "source": [
        "# The Knapsack Model"
      ]
    },
    {
      "cell_type": "code",
      "execution_count": null,
      "metadata": {
        "id": "t6Kobc6M4Onb"
      },
      "outputs": [],
      "source": [
        "import pyomo.environ as pyo\n",
        "model = pyo.ConcreteModel()\n",
        "model.x = pyo.Var([1,2], domain=pyo.NonNegativeReals)\n",
        "model.OBJ = pyo.Objective(expr = 2*model.x[1] + 3*model.x[2])\n",
        "model.Constraint1 = pyo.Constraint(expr = 3*model.x[1] + 4*model.x[2] >= 2)\n",
        "model.dual = pyo.Suffix(direction=pyo.Suffix.IMPORT_EXPORT)"
      ]
    },
    {
      "cell_type": "code",
      "execution_count": null,
      "metadata": {
        "id": "RacfopNo4Ond"
      },
      "outputs": [],
      "source": [
        "from pyomo.environ import *\n",
        "A = ['hammer', 'wrench', 'screwdriver', 'towel']\n",
        "b = {'hammer':8, 'wrench':3, 'screwdriver':6, 'towel':11}\n",
        "w = {'hammer':5, 'wrench':7, 'screwdriver':4, 'towel':3}\n",
        "W_max = 14\n",
        "model = ConcreteModel()\n",
        "model.x = Var( A, within=Binary )\n",
        "model.value = Objective(\n",
        "expr = sum( b[i]*model.x[i] for i in A),\n",
        "sense = maximize )\n",
        "model.weight = Constraint(\n",
        "expr = sum( w[i]*model.x[i] for i in A) <= W_max )\n"
      ]
    },
    {
      "cell_type": "code",
      "execution_count": null,
      "metadata": {
        "id": "i9DKAI3s4Onh"
      },
      "outputs": [],
      "source": [
        "opt = SolverFactory('glpk')\n"
      ]
    },
    {
      "cell_type": "code",
      "execution_count": null,
      "metadata": {
        "id": "AStd76xm4Onj"
      },
      "outputs": [],
      "source": [
        "model.dual = Suffix(direction=Suffix.IMPORT_EXPORT)\n",
        "results = opt.solve(model, tee= True)"
      ]
    },
    {
      "cell_type": "code",
      "execution_count": null,
      "metadata": {
        "id": "CkjQZKBv4Onm"
      },
      "outputs": [],
      "source": [
        "model.x.pprint()"
      ]
    },
    {
      "cell_type": "markdown",
      "source": [
        ""
      ],
      "metadata": {
        "id": "sXqhdg0x76q-"
      }
    },
    {
      "cell_type": "code",
      "execution_count": null,
      "metadata": {
        "id": "F3AuWRmR4Ono"
      },
      "outputs": [],
      "source": [
        "model.pprint()"
      ]
    },
    {
      "cell_type": "code",
      "execution_count": null,
      "metadata": {
        "id": "yWS5w0MZ4Onp"
      },
      "outputs": [],
      "source": [
        "model.x.pprint()"
      ]
    },
    {
      "cell_type": "code",
      "execution_count": null,
      "metadata": {
        "id": "BfPsGKQp4Onq"
      },
      "outputs": [],
      "source": [
        "print (model.dual[model.Constraint1])   # prints by defining and retrieving dual by constraint"
      ]
    },
    {
      "cell_type": "code",
      "execution_count": null,
      "metadata": {
        "id": "zVaAxrJE4Onq"
      },
      "outputs": [],
      "source": [
        "x1 = model.weight.uslack()\n",
        "x2 = model.weight.lslack()"
      ]
    },
    {
      "cell_type": "code",
      "execution_count": null,
      "metadata": {
        "id": "GM2z0IFU4Onr"
      },
      "outputs": [],
      "source": [
        "print (\"Upper Slack = \", x1, \", Lower slack =\", x2)"
      ]
    }
  ],
  "metadata": {
    "kernelspec": {
      "display_name": "Python 3 (ipykernel)",
      "language": "python",
      "name": "python3"
    },
    "language_info": {
      "codemirror_mode": {
        "name": "ipython",
        "version": 3
      },
      "file_extension": ".py",
      "mimetype": "text/x-python",
      "name": "python",
      "nbconvert_exporter": "python",
      "pygments_lexer": "ipython3",
      "version": "3.8.3"
    },
    "colab": {
      "name": "pyomoDemo.ipynb",
      "provenance": [],
      "include_colab_link": true
    }
  },
  "nbformat": 4,
  "nbformat_minor": 0
}