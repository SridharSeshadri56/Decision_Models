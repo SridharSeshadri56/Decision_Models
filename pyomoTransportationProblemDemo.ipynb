{
  "cells": [
    {
      "cell_type": "markdown",
      "metadata": {
        "id": "view-in-github",
        "colab_type": "text"
      },
      "source": [
        "<a href=\"https://colab.research.google.com/github/SridharSeshadri56/Decision_Models/blob/main/pyomoTransportationProblemDemo.ipynb\" target=\"_parent\"><img src=\"https://colab.research.google.com/assets/colab-badge.svg\" alt=\"Open In Colab\"/></a>"
      ]
    },
    {
      "cell_type": "code",
      "execution_count": null,
      "metadata": {
        "id": "3m6MN1Ds4OnK"
      },
      "outputs": [],
      "source": [
        "# import * works when algebraic formulation using sets. Else use the import as pyo"
      ]
    },
    {
      "cell_type": "code",
      "execution_count": 1,
      "metadata": {
        "id": "IUCeDFGK4OnR",
        "colab": {
          "base_uri": "https://localhost:8080/"
        },
        "outputId": "159766c7-126b-4770-ac91-967e7d372553"
      },
      "outputs": [
        {
          "output_type": "stream",
          "name": "stdout",
          "text": [
            "Collecting pyomo\n",
            "  Downloading Pyomo-6.3.0-cp37-cp37m-manylinux_2_12_x86_64.manylinux2010_x86_64.whl (9.6 MB)\n",
            "\u001b[K     |████████████████████████████████| 9.6 MB 6.8 MB/s \n",
            "\u001b[?25hCollecting ply\n",
            "  Downloading ply-3.11-py2.py3-none-any.whl (49 kB)\n",
            "\u001b[K     |████████████████████████████████| 49 kB 841 kB/s \n",
            "\u001b[?25hInstalling collected packages: ply, pyomo\n",
            "Successfully installed ply-3.11 pyomo-6.3.0\n"
          ]
        }
      ],
      "source": [
        "pip install pyomo  #Installs the modeling language called pyomo"
      ]
    },
    {
      "cell_type": "code",
      "execution_count": 2,
      "metadata": {
        "id": "vI8JWO4Y4OnT",
        "colab": {
          "base_uri": "https://localhost:8080/"
        },
        "outputId": "ef44339b-3121-4b10-e06b-eb4b6f5b0d9c"
      },
      "outputs": [
        {
          "output_type": "stream",
          "name": "stdout",
          "text": [
            "Selecting previously unselected package libsuitesparseconfig5:amd64.\n",
            "(Reading database ... 155320 files and directories currently installed.)\n",
            "Preparing to unpack .../libsuitesparseconfig5_1%3a5.1.2-2_amd64.deb ...\n",
            "Unpacking libsuitesparseconfig5:amd64 (1:5.1.2-2) ...\n",
            "Selecting previously unselected package libamd2:amd64.\n",
            "Preparing to unpack .../libamd2_1%3a5.1.2-2_amd64.deb ...\n",
            "Unpacking libamd2:amd64 (1:5.1.2-2) ...\n",
            "Selecting previously unselected package libcolamd2:amd64.\n",
            "Preparing to unpack .../libcolamd2_1%3a5.1.2-2_amd64.deb ...\n",
            "Unpacking libcolamd2:amd64 (1:5.1.2-2) ...\n",
            "Selecting previously unselected package libglpk40:amd64.\n",
            "Preparing to unpack .../libglpk40_4.65-1_amd64.deb ...\n",
            "Unpacking libglpk40:amd64 (4.65-1) ...\n",
            "Selecting previously unselected package glpk-utils.\n",
            "Preparing to unpack .../glpk-utils_4.65-1_amd64.deb ...\n",
            "Unpacking glpk-utils (4.65-1) ...\n",
            "Setting up libsuitesparseconfig5:amd64 (1:5.1.2-2) ...\n",
            "Setting up libcolamd2:amd64 (1:5.1.2-2) ...\n",
            "Setting up libamd2:amd64 (1:5.1.2-2) ...\n",
            "Setting up libglpk40:amd64 (4.65-1) ...\n",
            "Setting up glpk-utils (4.65-1) ...\n",
            "Processing triggers for libc-bin (2.27-3ubuntu1.3) ...\n",
            "/sbin/ldconfig.real: /usr/local/lib/python3.7/dist-packages/ideep4py/lib/libmkldnn.so.0 is not a symbolic link\n",
            "\n",
            "Processing triggers for man-db (2.8.3-2ubuntu0.1) ...\n"
          ]
        }
      ],
      "source": [
        "# The GLPK (GNU Linear Programming Kit) package is intended for solving large-scale linear programming (LP), \n",
        "# mixed integer programming (MIP), and other related problems. It is a set of routines written in ANSI C and \n",
        "# organized in the form of a callable library.\n",
        "!apt-get install -y -qq glpk-utils  #Installs the optimization engine called glpk.\n"
      ]
    },
    {
      "cell_type": "code",
      "execution_count": null,
      "metadata": {
        "id": "CvC4osw-4On2",
        "colab": {
          "base_uri": "https://localhost:8080/"
        },
        "outputId": "18e565a0-976d-4a7a-9c6e-361e1a539b81"
      },
      "outputs": [
        {
          "output_type": "stream",
          "name": "stdout",
          "text": [
            "GLPSOL: GLPK LP/MIP Solver, v4.65\n",
            "Parameter(s) specified in the command line:\n",
            " --write /tmp/tmpgyuyvs7_.glpk.raw --wglp /tmp/tmpzm21pr98.glpk.glp --cpxlp\n",
            " /tmp/tmpb4tvvgxp.pyomo.lp\n",
            "Reading problem data from '/tmp/tmpb4tvvgxp.pyomo.lp'...\n",
            "8 rows, 13 columns, 25 non-zeros\n",
            "81 lines were read\n",
            "Writing problem data to '/tmp/tmpzm21pr98.glpk.glp'...\n",
            "69 lines were written\n",
            "GLPK Simplex Optimizer, v4.65\n",
            "8 rows, 13 columns, 25 non-zeros\n",
            "Preprocessing...\n",
            "7 rows, 12 columns, 24 non-zeros\n",
            "Scaling...\n",
            " A: min|aij| =  1.000e+00  max|aij| =  1.000e+00  ratio =  1.000e+00\n",
            "Problem data seem to be well scaled\n",
            "Constructing initial basis...\n",
            "Size of triangular part is 7\n",
            "      0: obj =   1.983300000e+03 inf =   1.150e+02 (1)\n",
            "      3: obj =   1.899950000e+03 inf =   0.000e+00 (0)\n",
            "*     8: obj =   1.469550000e+03 inf =   0.000e+00 (0)\n",
            "OPTIMAL LP SOLUTION FOUND\n",
            "Time used:   0.0 secs\n",
            "Memory used: 0.0 Mb (41789 bytes)\n",
            "Writing basic solution to '/tmp/tmpgyuyvs7_.glpk.raw'...\n",
            "30 lines were written\n"
          ]
        }
      ],
      "source": [
        "from pyomo.environ import *\n",
        "import itertools                          # package helps create products of sets. here I use to create product of demand and supply sets\n",
        "\n",
        "demand_points = ['Ratkeller', 'McGoldricks', 'Night Train', 'Stern']    # This is the set of demand points\n",
        "supply_points = ['Hoboken', 'Bronx', 'Brooklyn']                        # This is the set of supply points\n",
        "\n",
        "demand = {'Ratkeller': 80, 'McGoldricks': 65, 'Night Train': 70, 'Stern': 85}          # demand at demand points \n",
        "supply = {'Hoboken': 80, 'Bronx': 145, 'Brooklyn': 120}                                # supply at supply points\n",
        "\n",
        "flows_from_to_arcs = list(itertools.product(supply, demand))   # this creates a list with supply and demand point names\n",
        "                                                               # this will become our set of variables\n",
        "                                                               # we could loop over supply and demand and add to a list instead\n",
        "\n",
        "cost_from_to = {('Hoboken','Ratkeller'):4.64, ('Hoboken','McGoldricks'):5.13, ('Hoboken','Night Train'): 6.54, ('Hoboken', 'Stern'):8.67, \\\n",
        "                ('Bronx','Ratkeller'):3.52, ('Bronx','McGoldricks'):4.16, ('Bronx','Night Train'): 6.90, ('Bronx', 'Stern'): 7.91, \\\n",
        "                ('Brooklyn','Ratkeller'):9.95, ('Brooklyn','McGoldricks'):6.82, ('Brooklyn','Night Train'): 3.88, ('Brooklyn', 'Stern'): 6.85 }       \n",
        "                       # cost of ship one unit from- to\n",
        "\n",
        "constraints = {'supply_constraint', 'demand_constraint'}           # The two sets of constraints\n",
        "\n",
        "model = ConcreteModel(name = \"(Model2)\")                            # Same as previous\n",
        "model.x = Var( flows_from_to_arcs, within= NonNegativeReals )       # Decision variables are the flows from - to\n",
        "model.value = Objective(                                            # Objective\n",
        "expr = sum( cost_from_to[i]*model.x[i] for i in flows_from_to_arcs), sense = minimize )  # Minimize total transportation cost\n",
        "\n",
        "# This defines a rule called demand must be met. \n",
        "\n",
        "def demand_must_be_met_rule(m,c):\n",
        "    return sum(m.x[i,c] for i in supply_points) == demand [c]    # sums supply to demand point c. Note the syntax == for saying equal to\n",
        "\n",
        "# This defines a rule to make sure do not exceed supply constraints\n",
        "\n",
        "def supply_must__not_be_exceeded_rule(m,c):\n",
        "    return sum(m.x[c,i] for i in demand_points) <= supply [c]    # sums from supply point c to demand points.\n",
        "\n",
        "# This defines in our model the constraints! Note that we simply pass the set of constraints and the rule. It does the rest.\n",
        "# model is by default when we call (recall model can be renamed as you like )\n",
        "model.demand_constraint = Constraint(demand_points, rule = demand_must_be_met_rule)   # applies to each demand point\n",
        "\n",
        "model.supply_constraint = Constraint(supply_points, rule = supply_must__not_be_exceeded_rule)  # applies to each supply point\n",
        "\n",
        "opt = SolverFactory('glpk')           # same as before\n",
        "\n",
        "model.dual = Suffix(direction=Suffix.IMPORT_EXPORT)   # same as before\n",
        "results = opt.solve(model, tee= True)                 # same as before"
      ]
    },
    {
      "cell_type": "code",
      "execution_count": null,
      "metadata": {
        "id": "I1YRjt6W4On5",
        "colab": {
          "base_uri": "https://localhost:8080/"
        },
        "outputId": "19bd508f-2644-4551-f29f-f12e6147a8e2"
      },
      "outputs": [
        {
          "output_type": "stream",
          "name": "stdout",
          "text": [
            "3 Set Declarations\n",
            "    demand_constraint_index : Size=1, Index=None, Ordered=Insertion\n",
            "        Key  : Dimen : Domain : Size : Members\n",
            "        None :     1 :    Any :    4 : {'Ratkeller', 'McGoldricks', 'Night Train', 'Stern'}\n",
            "    supply_constraint_index : Size=1, Index=None, Ordered=Insertion\n",
            "        Key  : Dimen : Domain : Size : Members\n",
            "        None :     1 :    Any :    3 : {'Hoboken', 'Bronx', 'Brooklyn'}\n",
            "    x_index : Size=1, Index=None, Ordered=Insertion\n",
            "        Key  : Dimen : Domain : Size : Members\n",
            "        None :     2 :    Any :   12 : {('Hoboken', 'Ratkeller'), ('Hoboken', 'McGoldricks'), ('Hoboken', 'Night Train'), ('Hoboken', 'Stern'), ('Bronx', 'Ratkeller'), ('Bronx', 'McGoldricks'), ('Bronx', 'Night Train'), ('Bronx', 'Stern'), ('Brooklyn', 'Ratkeller'), ('Brooklyn', 'McGoldricks'), ('Brooklyn', 'Night Train'), ('Brooklyn', 'Stern')}\n",
            "\n",
            "1 Var Declarations\n",
            "    x : Size=12, Index=x_index\n",
            "        Key                         : Lower : Value : Upper : Fixed : Stale : Domain\n",
            "           ('Bronx', 'McGoldricks') :     0 :  65.0 :  None : False : False : NonNegativeReals\n",
            "           ('Bronx', 'Night Train') :     0 :   0.0 :  None : False : False : NonNegativeReals\n",
            "             ('Bronx', 'Ratkeller') :     0 :  80.0 :  None : False : False : NonNegativeReals\n",
            "                 ('Bronx', 'Stern') :     0 :   0.0 :  None : False : False : NonNegativeReals\n",
            "        ('Brooklyn', 'McGoldricks') :     0 :   0.0 :  None : False : False : NonNegativeReals\n",
            "        ('Brooklyn', 'Night Train') :     0 :  70.0 :  None : False : False : NonNegativeReals\n",
            "          ('Brooklyn', 'Ratkeller') :     0 :   0.0 :  None : False : False : NonNegativeReals\n",
            "              ('Brooklyn', 'Stern') :     0 :  50.0 :  None : False : False : NonNegativeReals\n",
            "         ('Hoboken', 'McGoldricks') :     0 :   0.0 :  None : False : False : NonNegativeReals\n",
            "         ('Hoboken', 'Night Train') :     0 :   0.0 :  None : False : False : NonNegativeReals\n",
            "           ('Hoboken', 'Ratkeller') :     0 :   0.0 :  None : False : False : NonNegativeReals\n",
            "               ('Hoboken', 'Stern') :     0 :  35.0 :  None : False : False : NonNegativeReals\n",
            "\n",
            "1 Objective Declarations\n",
            "    value : Size=1, Index=None, Active=True\n",
            "        Key  : Active : Sense    : Expression\n",
            "        None :   True : minimize : 4.64*x[Hoboken,Ratkeller] + 5.13*x[Hoboken,McGoldricks] + 6.54*x[Hoboken,Night Train] + 8.67*x[Hoboken,Stern] + 3.52*x[Bronx,Ratkeller] + 4.16*x[Bronx,McGoldricks] + 6.9*x[Bronx,Night Train] + 7.91*x[Bronx,Stern] + 9.95*x[Brooklyn,Ratkeller] + 6.82*x[Brooklyn,McGoldricks] + 3.88*x[Brooklyn,Night Train] + 6.85*x[Brooklyn,Stern]\n",
            "\n",
            "2 Constraint Declarations\n",
            "    demand_constraint : Size=4, Index=demand_constraint_index, Active=True\n",
            "        Key         : Lower : Body                                                                    : Upper : Active\n",
            "        McGoldricks :  65.0 : x[Hoboken,McGoldricks] + x[Bronx,McGoldricks] + x[Brooklyn,McGoldricks] :  65.0 :   True\n",
            "        Night Train :  70.0 : x[Hoboken,Night Train] + x[Bronx,Night Train] + x[Brooklyn,Night Train] :  70.0 :   True\n",
            "          Ratkeller :  80.0 :       x[Hoboken,Ratkeller] + x[Bronx,Ratkeller] + x[Brooklyn,Ratkeller] :  80.0 :   True\n",
            "              Stern :  85.0 :                   x[Hoboken,Stern] + x[Bronx,Stern] + x[Brooklyn,Stern] :  85.0 :   True\n",
            "    supply_constraint : Size=3, Index=supply_constraint_index, Active=True\n",
            "        Key      : Lower : Body                                                                                          : Upper : Active\n",
            "           Bronx :  -Inf :             x[Bronx,Ratkeller] + x[Bronx,McGoldricks] + x[Bronx,Night Train] + x[Bronx,Stern] : 145.0 :   True\n",
            "        Brooklyn :  -Inf : x[Brooklyn,Ratkeller] + x[Brooklyn,McGoldricks] + x[Brooklyn,Night Train] + x[Brooklyn,Stern] : 120.0 :   True\n",
            "         Hoboken :  -Inf :     x[Hoboken,Ratkeller] + x[Hoboken,McGoldricks] + x[Hoboken,Night Train] + x[Hoboken,Stern] :  80.0 :   True\n",
            "\n",
            "1 Suffix Declarations\n",
            "    dual : Direction=Suffix.IMPORT_EXPORT, Datatype=Suffix.FLOAT\n",
            "        Key                            : Value\n",
            "        demand_constraint[McGoldricks] :  5.13\n",
            "        demand_constraint[Night Train] :   5.7\n",
            "          demand_constraint[Ratkeller] :  4.49\n",
            "              demand_constraint[Stern] :  8.67\n",
            "              supply_constraint[Bronx] : -0.97\n",
            "           supply_constraint[Brooklyn] : -1.82\n",
            "            supply_constraint[Hoboken] :   0.0\n",
            "\n",
            "8 Declarations: x_index x value demand_constraint_index demand_constraint supply_constraint_index supply_constraint dual\n"
          ]
        }
      ],
      "source": [
        "model.pprint()"
      ]
    }
  ],
  "metadata": {
    "kernelspec": {
      "display_name": "Python 3 (ipykernel)",
      "language": "python",
      "name": "python3"
    },
    "language_info": {
      "codemirror_mode": {
        "name": "ipython",
        "version": 3
      },
      "file_extension": ".py",
      "mimetype": "text/x-python",
      "name": "python",
      "nbconvert_exporter": "python",
      "pygments_lexer": "ipython3",
      "version": "3.8.3"
    },
    "colab": {
      "name": "Copy of pyomoDemo.ipynb",
      "provenance": [],
      "include_colab_link": true
    }
  },
  "nbformat": 4,
  "nbformat_minor": 0
}