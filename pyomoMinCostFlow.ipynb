{
  "cells": [
    {
      "cell_type": "markdown",
      "metadata": {
        "id": "view-in-github",
        "colab_type": "text"
      },
      "source": [
        "<a href=\"https://colab.research.google.com/github/SridharSeshadri56/Decision_Models/blob/main/pyomoMinCostFlow.ipynb\" target=\"_parent\"><img src=\"https://colab.research.google.com/assets/colab-badge.svg\" alt=\"Open In Colab\"/></a>"
      ]
    },
    {
      "cell_type": "code",
      "execution_count": null,
      "metadata": {
        "id": "Gw9losJ0jvfP"
      },
      "outputs": [],
      "source": [
        "# Minimum Cost Flow Problem: Minimize the cost of satsifying demand at a set of nodes given a supply network\n",
        "# Define a set of nodes, their demand (>0 supply, <0 demand, =0 transhipment node)\n",
        "# Define the set of arcs in the netwrk, capacities of arcs and cost per unit of transportation\n",
        "# We model the constraints as net flow at each node <= demand"
      ]
    },
    {
      "cell_type": "code",
      "execution_count": null,
      "metadata": {
        "id": "gJKpD9AMjvfW"
      },
      "outputs": [],
      "source": [
        "pip install pyomo"
      ]
    },
    {
      "cell_type": "code",
      "execution_count": null,
      "metadata": {
        "id": "-fcwUtp4jvfX"
      },
      "outputs": [],
      "source": [
        "!apt-get install -y -qq glpk-utils  #Installs the optimization engine called glpk."
      ]
    },
    {
      "cell_type": "code",
      "execution_count": null,
      "metadata": {
        "id": "3pm9ULQNjvfa"
      },
      "outputs": [],
      "source": [
        "from pyomo.environ import *\n",
        "nodes = ['F1', 'F2', 'DC', 'W1', 'W2']     #The nodes in the network\n",
        "\n",
        "#The arcs in the network which will serve to define decision variables\n",
        "arcs = { ('F1','W1'), ('F1', 'DC'),('F2','DC'), \\\n",
        "        ('F2','W2'), \\\n",
        "        ('DC','W1'), \\\n",
        "        ('DC','W2') }\n",
        "\n",
        "                         #Max flow on arcs  (I set capacity to large number (1000) when there is no limit on flow)\n",
        "arc_capacity =  { ('F1','W1'): 1000, ('F1', 'DC'):50,('F2','DC'):50, \\\n",
        "        ('F2','W2'):1000, \\\n",
        "        ('DC','W1'):50, \\\n",
        "        ('DC','W2'):50 }\n",
        "\n",
        " # Demand > 0 means supply node, < 0 means demand, = 0 means transhipment node\n",
        "demand = {'F1': 80, 'F2': 70, 'DC': 0, 'W1': -60, 'W2': -90}\n",
        "\n",
        " #The cost per unit transported on each arc\n",
        "cost_per_unit = { ('F1','W1'): 700, ('F1', 'DC'): 300, \\\n",
        "                 ('F2','DC'): 500, \\\n",
        "                 ('F2','W2'): 1000, \\\n",
        "                 ('DC','W1'): 200, \\\n",
        "                 ('DC','W2'):400 }\n",
        "\n",
        "model = ConcreteModel(name = \"(Model2)\")                #Object to define the model (any name on left hand side ok)\n",
        "\n",
        "model.x = Var( arcs, within= NonNegativeReals )         #The decision variables are flows in the arcs\n",
        "\n",
        "model.value = Objective(\n",
        "expr = sum( cost_per_unit[i]*model.x[i] for i in arcs), sense = minimize )  # Minimize cost of satisfying demand\n",
        "\n",
        "def one_per_node(m,c):                          # For any node outflow - inflow <= demand\n",
        "    return sum(m.x[i,j] for (i,j) in arcs if i == c) - sum(m.x[i,j] for (i,j) in arcs if j == c) <= demand [c]\n",
        "\n",
        "def one_per_arc(m,c1, c2):\n",
        "    return m.x[c1, c2] <= arc_capacity[c1, c2]\n",
        "\n",
        "model.one_per_node = Constraint(nodes, rule = one_per_node)   #Net flow should be less than or equal to demand\n",
        "model.one_per_arc  = Constraint(arcs, rule = one_per_arc)     #Max flow on arc can not exceed arc capacity\n",
        "\n",
        "opt = SolverFactory('glpk')\n",
        "\n",
        "model.dual = Suffix(direction=Suffix.IMPORT_EXPORT)\n",
        "results = opt.solve(model, tee= True)"
      ]
    },
    {
      "cell_type": "code",
      "execution_count": null,
      "metadata": {
        "id": "mjhrfk6Tjvfe"
      },
      "outputs": [],
      "source": [
        "model.pprint()"
      ]
    },
    {
      "cell_type": "code",
      "execution_count": null,
      "metadata": {
        "id": "SHUUEVlejvfh"
      },
      "outputs": [],
      "source": [
        ""
      ]
    },
    {
      "cell_type": "code",
      "execution_count": null,
      "metadata": {
        "id": "mJPBwB2Yjvfj"
      },
      "outputs": [],
      "source": [
        ""
      ]
    }
  ],
  "metadata": {
    "kernelspec": {
      "display_name": "Python 3 (ipykernel)",
      "language": "python",
      "name": "python3"
    },
    "language_info": {
      "codemirror_mode": {
        "name": "ipython",
        "version": 3
      },
      "file_extension": ".py",
      "mimetype": "text/x-python",
      "name": "python",
      "nbconvert_exporter": "python",
      "pygments_lexer": "ipython3",
      "version": "3.8.3"
    },
    "colab": {
      "name": "pyomoMinCostFlow.ipynb",
      "provenance": [],
      "include_colab_link": true
    }
  },
  "nbformat": 4,
  "nbformat_minor": 0
}