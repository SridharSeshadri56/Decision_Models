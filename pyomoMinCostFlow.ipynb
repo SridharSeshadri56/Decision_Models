{
  "cells": [
    {
      "cell_type": "markdown",
      "metadata": {
        "id": "view-in-github",
        "colab_type": "text"
      },
      "source": [
        "<a href=\"https://colab.research.google.com/github/SridharSeshadri56/Decision_Models/blob/main/pyomoMinCostFlow.ipynb\" target=\"_parent\"><img src=\"https://colab.research.google.com/assets/colab-badge.svg\" alt=\"Open In Colab\"/></a>"
      ]
    },
    {
      "cell_type": "code",
      "execution_count": 3,
      "metadata": {
        "id": "Gw9losJ0jvfP"
      },
      "outputs": [],
      "source": [
        "# Minimum Cost Flow Problem: Minimize the cost of satsifying demand at a set of nodes given a supply network\n",
        "# Define a set of nodes, their demand (>0 supply, <0 demand, =0 transhipment node)\n",
        "# Define the set of arcs in the netwrk, capacities of arcs and cost per unit of transportation\n",
        "# We model the constraints as net flow at each node <= demand"
      ]
    },
    {
      "cell_type": "code",
      "execution_count": 20,
      "metadata": {
        "colab": {
          "base_uri": "https://localhost:8080/"
        },
        "id": "gJKpD9AMjvfW",
        "outputId": "0e183a6a-14ab-46cf-fe94-77695db6ae6b"
      },
      "outputs": [
        {
          "output_type": "stream",
          "name": "stdout",
          "text": [
            "Requirement already satisfied: pyomo in /usr/local/lib/python3.7/dist-packages (6.3.0)\n",
            "Requirement already satisfied: ply in /usr/local/lib/python3.7/dist-packages (from pyomo) (3.11)\n"
          ]
        }
      ],
      "source": [
        "pip install pyomo"
      ]
    },
    {
      "cell_type": "code",
      "execution_count": 21,
      "metadata": {
        "id": "-fcwUtp4jvfX"
      },
      "outputs": [],
      "source": [
        "!apt-get install -y -qq glpk-utils  #Installs the optimization engine called glpk."
      ]
    },
    {
      "cell_type": "code",
      "execution_count": 19,
      "metadata": {
        "colab": {
          "base_uri": "https://localhost:8080/",
          "height": 381
        },
        "id": "3pm9ULQNjvfa",
        "outputId": "9c5752da-7844-45e2-c16f-a1649efb8619"
      },
      "outputs": [
        {
          "output_type": "stream",
          "name": "stdout",
          "text": [
            "WARNING: Could not locate the 'glpsol' executable, which is required for\n",
            "    solver 'glpk'\n"
          ]
        },
        {
          "output_type": "error",
          "ename": "ApplicationError",
          "evalue": "ignored",
          "traceback": [
            "\u001b[0;31m---------------------------------------------------------------------------\u001b[0m",
            "\u001b[0;31mApplicationError\u001b[0m                          Traceback (most recent call last)",
            "\u001b[0;32m<ipython-input-19-a3817958b57d>\u001b[0m in \u001b[0;36m<module>\u001b[0;34m()\u001b[0m\n\u001b[1;32m     33\u001b[0m \u001b[0;34m\u001b[0m\u001b[0m\n\u001b[1;32m     34\u001b[0m \u001b[0mmodel\u001b[0m\u001b[0;34m.\u001b[0m\u001b[0mdual\u001b[0m \u001b[0;34m=\u001b[0m \u001b[0mSuffix\u001b[0m\u001b[0;34m(\u001b[0m\u001b[0mdirection\u001b[0m\u001b[0;34m=\u001b[0m\u001b[0mSuffix\u001b[0m\u001b[0;34m.\u001b[0m\u001b[0mIMPORT_EXPORT\u001b[0m\u001b[0;34m)\u001b[0m\u001b[0;34m\u001b[0m\u001b[0;34m\u001b[0m\u001b[0m\n\u001b[0;32m---> 35\u001b[0;31m \u001b[0mresults\u001b[0m \u001b[0;34m=\u001b[0m \u001b[0mopt\u001b[0m\u001b[0;34m.\u001b[0m\u001b[0msolve\u001b[0m\u001b[0;34m(\u001b[0m\u001b[0mmodel\u001b[0m\u001b[0;34m,\u001b[0m \u001b[0mtee\u001b[0m\u001b[0;34m=\u001b[0m \u001b[0;32mTrue\u001b[0m\u001b[0;34m)\u001b[0m\u001b[0;34m\u001b[0m\u001b[0;34m\u001b[0m\u001b[0m\n\u001b[0m",
            "\u001b[0;32m/usr/local/lib/python3.7/dist-packages/pyomo/opt/base/solvers.py\u001b[0m in \u001b[0;36msolve\u001b[0;34m(self, *args, **kwds)\u001b[0m\n\u001b[1;32m    510\u001b[0m         \u001b[0;34m\"\"\" Solve the problem \"\"\"\u001b[0m\u001b[0;34m\u001b[0m\u001b[0;34m\u001b[0m\u001b[0m\n\u001b[1;32m    511\u001b[0m \u001b[0;34m\u001b[0m\u001b[0m\n\u001b[0;32m--> 512\u001b[0;31m         \u001b[0mself\u001b[0m\u001b[0;34m.\u001b[0m\u001b[0mavailable\u001b[0m\u001b[0;34m(\u001b[0m\u001b[0mexception_flag\u001b[0m\u001b[0;34m=\u001b[0m\u001b[0;32mTrue\u001b[0m\u001b[0;34m)\u001b[0m\u001b[0;34m\u001b[0m\u001b[0;34m\u001b[0m\u001b[0m\n\u001b[0m\u001b[1;32m    513\u001b[0m         \u001b[0;31m#\u001b[0m\u001b[0;34m\u001b[0m\u001b[0;34m\u001b[0m\u001b[0;34m\u001b[0m\u001b[0m\n\u001b[1;32m    514\u001b[0m         \u001b[0;31m# If the inputs are models, then validate that they have been\u001b[0m\u001b[0;34m\u001b[0m\u001b[0;34m\u001b[0m\u001b[0;34m\u001b[0m\u001b[0m\n",
            "\u001b[0;32m/usr/local/lib/python3.7/dist-packages/pyomo/opt/solver/shellcmd.py\u001b[0m in \u001b[0;36mavailable\u001b[0;34m(self, exception_flag)\u001b[0m\n\u001b[1;32m    126\u001b[0m             \u001b[0;32mif\u001b[0m \u001b[0mexception_flag\u001b[0m\u001b[0;34m:\u001b[0m\u001b[0;34m\u001b[0m\u001b[0;34m\u001b[0m\u001b[0m\n\u001b[1;32m    127\u001b[0m                 \u001b[0mmsg\u001b[0m \u001b[0;34m=\u001b[0m \u001b[0;34m\"No executable found for solver '%s'\"\u001b[0m\u001b[0;34m\u001b[0m\u001b[0;34m\u001b[0m\u001b[0m\n\u001b[0;32m--> 128\u001b[0;31m                 \u001b[0;32mraise\u001b[0m \u001b[0mApplicationError\u001b[0m\u001b[0;34m(\u001b[0m\u001b[0mmsg\u001b[0m \u001b[0;34m%\u001b[0m \u001b[0mself\u001b[0m\u001b[0;34m.\u001b[0m\u001b[0mname\u001b[0m\u001b[0;34m)\u001b[0m\u001b[0;34m\u001b[0m\u001b[0;34m\u001b[0m\u001b[0m\n\u001b[0m\u001b[1;32m    129\u001b[0m             \u001b[0;32mreturn\u001b[0m \u001b[0;32mFalse\u001b[0m\u001b[0;34m\u001b[0m\u001b[0;34m\u001b[0m\u001b[0m\n\u001b[1;32m    130\u001b[0m         \u001b[0;32mreturn\u001b[0m \u001b[0;32mTrue\u001b[0m\u001b[0;34m\u001b[0m\u001b[0;34m\u001b[0m\u001b[0m\n",
            "\u001b[0;31mApplicationError\u001b[0m: No executable found for solver 'glpk'"
          ]
        }
      ],
      "source": [
        "from pyomo.environ import *\n",
        "nodes = ['F1', 'F2', 'DC', 'W1', 'W2']     #The nodes in the network\n",
        "\n",
        "#The arcs in the network which will serve to define decision variables\n",
        "arcs = { ('F1','W1'), ('F1', 'DC'),('F2','DC'), \\\n",
        "        ('F2','W2'), \\\n",
        "        ('DC','W1'), \\\n",
        "        ('DC','W2') }\n",
        "\n",
        "                         #Max flow on arcs  (I set capacity to large number (1000) when there is no limit on flow)\n",
        "arc_capacity =  { ('F1','W1'): 1000, ('F1', 'DC'):50,('F2','DC'):50, \\\n",
        "        ('F2','W2'):1000, \\\n",
        "        ('DC','W1'):50, \\\n",
        "        ('DC','W2'):50 }\n",
        "\n",
        " # Demand > 0 means supply node, < 0 means demand, = 0 means transhipment node\n",
        "demand = {'F1': 80, 'F2': 70, 'DC': 0, 'W1': -60, 'W2': -90}\n",
        "\n",
        " #The cost per unit transported on each arc\n",
        "cost_per_unit = { ('F1','W1'): 700, ('F1', 'DC'): 300, \\\n",
        "                 ('F2','DC'): 500, \\\n",
        "                 ('F2','W2'): 1000, \\\n",
        "                 ('DC','W1'): 200, \\\n",
        "                 ('DC','W2'):400 }\n",
        "\n",
        "model = ConcreteModel(name = \"(Model2)\")                #Object to define the model (any name on left hand side ok)\n",
        "\n",
        "model.x = Var( arcs, within= NonNegativeReals )         #The decision variables are flows in the arcs\n",
        "\n",
        "model.value = Objective(\n",
        "expr = sum( cost_per_unit[i]*model.x[i] for i in arcs), sense = minimize )  # Minimize cost of satisfying demand\n",
        "\n",
        "def one_per_node(m,c):                          # For any node outflow - inflow <= demand\n",
        "    return sum(m.x[i,j] for (i,j) in arcs if i == c) - sum(m.x[i,j] for (i,j) in arcs if j == c) <= demand [c]\n",
        "\n",
        "def one_per_arc(m,c1, c2):\n",
        "    return m.x[c1, c2] <= arc_capacity[c1, c2]\n",
        "\n",
        "model.one_per_node = Constraint(nodes, rule = one_per_node)   #Net flow should be less than or equal to demand\n",
        "model.one_per_arc  = Constraint(arcs, rule = one_per_arc)     #Max flow on arc can not exceed arc capacity\n",
        "\n",
        "opt = SolverFactory('glpk')\n",
        "\n",
        "model.dual = Suffix(direction=Suffix.IMPORT_EXPORT)\n",
        "results = opt.solve(model, tee= True)"
      ]
    },
    {
      "cell_type": "code",
      "execution_count": null,
      "metadata": {
        "id": "mjhrfk6Tjvfe",
        "outputId": "f52297d8-abda-4b1c-df19-1a18755e2b79"
      },
      "outputs": [
        {
          "name": "stdout",
          "output_type": "stream",
          "text": [
            "3 Set Declarations\n",
            "    one_per_arc_index : Size=1, Index=None, Ordered=False\n",
            "        Key  : Dimen : Domain : Size : Members\n",
            "        None :     2 :    Any :    6 : {('DC', 'W1'), ('DC', 'W2'), ('F1', 'DC'), ('F1', 'W1'), ('F2', 'DC'), ('F2', 'W2')}\n",
            "    one_per_node_index : Size=1, Index=None, Ordered=Insertion\n",
            "        Key  : Dimen : Domain : Size : Members\n",
            "        None :     1 :    Any :    5 : {'F1', 'F2', 'DC', 'W1', 'W2'}\n",
            "    x_index : Size=1, Index=None, Ordered=False\n",
            "        Key  : Dimen : Domain : Size : Members\n",
            "        None :     2 :    Any :    6 : {('DC', 'W1'), ('DC', 'W2'), ('F1', 'DC'), ('F1', 'W1'), ('F2', 'DC'), ('F2', 'W2')}\n",
            "\n",
            "1 Var Declarations\n",
            "    x : Size=6, Index=x_index\n",
            "        Key          : Lower : Value : Upper : Fixed : Stale : Domain\n",
            "        ('DC', 'W1') :     0 :  30.0 :  None : False : False : NonNegativeReals\n",
            "        ('DC', 'W2') :     0 :  50.0 :  None : False : False : NonNegativeReals\n",
            "        ('F1', 'DC') :     0 :  50.0 :  None : False : False : NonNegativeReals\n",
            "        ('F1', 'W1') :     0 :  30.0 :  None : False : False : NonNegativeReals\n",
            "        ('F2', 'DC') :     0 :  30.0 :  None : False : False : NonNegativeReals\n",
            "        ('F2', 'W2') :     0 :  40.0 :  None : False : False : NonNegativeReals\n",
            "\n",
            "1 Objective Declarations\n",
            "    value : Size=1, Index=None, Active=True\n",
            "        Key  : Active : Sense    : Expression\n",
            "        None :   True : minimize : 700*x[F1,W1] + 400*x[DC,W2] + 500*x[F2,DC] + 200*x[DC,W1] + 1000*x[F2,W2] + 300*x[F1,DC]\n",
            "\n",
            "2 Constraint Declarations\n",
            "    one_per_arc : Size=6, Index=one_per_arc_index, Active=True\n",
            "        Key          : Lower : Body     : Upper  : Active\n",
            "        ('DC', 'W1') :  -Inf : x[DC,W1] :   50.0 :   True\n",
            "        ('DC', 'W2') :  -Inf : x[DC,W2] :   50.0 :   True\n",
            "        ('F1', 'DC') :  -Inf : x[F1,DC] :   50.0 :   True\n",
            "        ('F1', 'W1') :  -Inf : x[F1,W1] : 1000.0 :   True\n",
            "        ('F2', 'DC') :  -Inf : x[F2,DC] :   50.0 :   True\n",
            "        ('F2', 'W2') :  -Inf : x[F2,W2] : 1000.0 :   True\n",
            "    one_per_node : Size=5, Index=one_per_node_index, Active=True\n",
            "        Key : Lower : Body                                        : Upper : Active\n",
            "         DC :  -Inf : x[DC,W2] + x[DC,W1] - (x[F2,DC] + x[F1,DC]) :   0.0 :   True\n",
            "         F1 :  -Inf :                         x[F1,W1] + x[F1,DC] :  80.0 :   True\n",
            "         F2 :  -Inf :                         x[F2,DC] + x[F2,W2] :  70.0 :   True\n",
            "         W1 :  -Inf :                     - (x[F1,W1] + x[DC,W1]) : -60.0 :   True\n",
            "         W2 :  -Inf :                     - (x[DC,W2] + x[F2,W2]) : -90.0 :   True\n",
            "\n",
            "1 Suffix Declarations\n",
            "    dual : Direction=Suffix.IMPORT_EXPORT, Datatype=Suffix.FLOAT\n",
            "        Key                : Value\n",
            "        one_per_arc[DC,W1] :     0.0\n",
            "        one_per_arc[DC,W2] :  -100.0\n",
            "        one_per_arc[F1,DC] :  -200.0\n",
            "        one_per_arc[F1,W1] :     0.0\n",
            "        one_per_arc[F2,DC] :     0.0\n",
            "        one_per_arc[F2,W2] :     0.0\n",
            "          one_per_node[DC] :  -500.0\n",
            "          one_per_node[F1] :     0.0\n",
            "          one_per_node[F2] :     0.0\n",
            "          one_per_node[W1] :  -700.0\n",
            "          one_per_node[W2] : -1000.0\n",
            "\n",
            "8 Declarations: x_index x value one_per_node_index one_per_node one_per_arc_index one_per_arc dual\n"
          ]
        }
      ],
      "source": [
        "model.pprint()"
      ]
    },
    {
      "cell_type": "code",
      "execution_count": null,
      "metadata": {
        "id": "SHUUEVlejvfh"
      },
      "outputs": [],
      "source": [
        ""
      ]
    },
    {
      "cell_type": "code",
      "execution_count": null,
      "metadata": {
        "id": "mJPBwB2Yjvfj"
      },
      "outputs": [],
      "source": [
        ""
      ]
    }
  ],
  "metadata": {
    "kernelspec": {
      "display_name": "Python 3 (ipykernel)",
      "language": "python",
      "name": "python3"
    },
    "language_info": {
      "codemirror_mode": {
        "name": "ipython",
        "version": 3
      },
      "file_extension": ".py",
      "mimetype": "text/x-python",
      "name": "python",
      "nbconvert_exporter": "python",
      "pygments_lexer": "ipython3",
      "version": "3.8.3"
    },
    "colab": {
      "name": "pyomoMinCostFlow.ipynb",
      "provenance": [],
      "include_colab_link": true
    }
  },
  "nbformat": 4,
  "nbformat_minor": 0
}